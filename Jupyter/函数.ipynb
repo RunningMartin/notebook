{
 "cells": [
  {
   "cell_type": "markdown",
   "metadata": {},
   "source": [
    "# 函数"
   ]
  },
  {
   "cell_type": "markdown",
   "metadata": {},
   "source": [
    "Python中，函数也是一个对象，函数名和变量名相同，都是指向一个对象。在Python中定义一个函数遵循如下结构即可：\n",
    "```python\n",
    "def func_name(arr): # def表示定义一个函数，函数名称为func_name，调用时，函数接收的参数为arr。\n",
    "    # do something \n",
    "```\n"
   ]
  },
  {
   "cell_type": "code",
   "execution_count": 25,
   "metadata": {},
   "outputs": [
    {
     "name": "stdout",
     "output_type": "stream",
     "text": [
      "<function my_sum at 0x000000000B9B4D90>\n",
      "3\n"
     ]
    }
   ],
   "source": [
    "def my_sum(a,b):\n",
    "    return a+b # return 表示函数结束时，返回的结果\n",
    "print(my_sum)\n",
    "print(my_sum(1,2))"
   ]
  },
  {
   "cell_type": "markdown",
   "metadata": {},
   "source": [
    "函数最大的作用是复用代码，通过函数能将我们的代码变得更规范化。比如排序一个队列可以直接调用`sorted`函数，而不用每次都实现排序。"
   ]
  },
  {
   "cell_type": "code",
   "execution_count": 21,
   "metadata": {},
   "outputs": [
    {
     "name": "stdout",
     "output_type": "stream",
     "text": [
      "[1, 2, 3, 4, 5, 6, 7, 9]\n"
     ]
    }
   ],
   "source": [
    "unsorted_list=[3,2,5,1,6,9,7,4]\n",
    "print(sorted(unsorted_list))"
   ]
  },
  {
   "cell_type": "markdown",
   "metadata": {},
   "source": [
    "## 函数嵌套"
   ]
  },
  {
   "cell_type": "markdown",
   "metadata": {},
   "source": [
    "Python的函数中可以嵌套定义一个函数。"
   ]
  },
  {
   "cell_type": "code",
   "execution_count": 6,
   "metadata": {},
   "outputs": [
    {
     "name": "stdout",
     "output_type": "stream",
     "text": [
      "hello f1\n",
      "hello f2\n"
     ]
    }
   ],
   "source": [
    "def f1():\n",
    "    print('hello f1')\n",
    "    def f2():\n",
    "        print('hello f2')\n",
    "    f2()\n",
    "f1()"
   ]
  },
  {
   "cell_type": "markdown",
   "metadata": {},
   "source": [
    "函数的嵌套可以给我们带来两点好处：\n",
    "- 保护函数的隐私，内部函数只能在其外函数中访问。"
   ]
  },
  {
   "cell_type": "code",
   "execution_count": 7,
   "metadata": {},
   "outputs": [
    {
     "name": "stdout",
     "output_type": "stream",
     "text": [
      "到达住址：13001\n",
      "拿到我的钥匙\n",
      "开门\n"
     ]
    },
    {
     "ename": "NameError",
     "evalue": "name 'get_my_key' is not defined",
     "output_type": "error",
     "traceback": [
      "\u001b[1;31m---------------------------------------------------------------------------\u001b[0m",
      "\u001b[1;31mNameError\u001b[0m                                 Traceback (most recent call last)",
      "\u001b[1;32m<ipython-input-7-8ced990d3e7c>\u001b[0m in \u001b[0;36m<module>\u001b[1;34m\u001b[0m\n\u001b[0;32m      7\u001b[0m     \u001b[0mprint\u001b[0m\u001b[1;33m(\u001b[0m\u001b[1;34m'开门'\u001b[0m\u001b[1;33m)\u001b[0m\u001b[1;33m\u001b[0m\u001b[1;33m\u001b[0m\u001b[0m\n\u001b[0;32m      8\u001b[0m \u001b[0mcome_back_home\u001b[0m\u001b[1;33m(\u001b[0m\u001b[1;34m'13001'\u001b[0m\u001b[1;33m)\u001b[0m\u001b[1;33m\u001b[0m\u001b[1;33m\u001b[0m\u001b[0m\n\u001b[1;32m----> 9\u001b[1;33m \u001b[0mget_my_key\u001b[0m\u001b[1;33m(\u001b[0m\u001b[1;33m)\u001b[0m \u001b[1;31m# 会报错\u001b[0m\u001b[1;33m\u001b[0m\u001b[1;33m\u001b[0m\u001b[0m\n\u001b[0m",
      "\u001b[1;31mNameError\u001b[0m: name 'get_my_key' is not defined"
     ]
    }
   ],
   "source": [
    "def come_back_home(home_address):\n",
    "    def get_my_key():\n",
    "        # 可以从数据库中获取\n",
    "        print(\"拿到我的钥匙\")\n",
    "    print('到达住址：{}'.format(home_address))\n",
    "    get_my_key()\n",
    "    print('开门')\n",
    "come_back_home('13001')\n",
    "get_my_key() # 会报错"
   ]
  },
  {
   "cell_type": "markdown",
   "metadata": {},
   "source": [
    "- 适当使用，可以提高运行效率。"
   ]
  },
  {
   "cell_type": "code",
   "execution_count": 13,
   "metadata": {},
   "outputs": [
    {
     "name": "stdout",
     "output_type": "stream",
     "text": [
      "24\n"
     ]
    }
   ],
   "source": [
    "# 采用了内部函数的递归计算阶乘函数\n",
    "# 计算阶乘 4!=4*3*2*1\n",
    "def factorial(n):\n",
    "    # 判断n是否为整数，检查参数部分只需要执行1次\n",
    "    if not isinstance(n,int):\n",
    "        raise Exception('n must be integer')\n",
    "    if n<0:\n",
    "        raise Exception('n must be greater or equal to 0')\n",
    "    def inter_factorial(input):\n",
    "        if input<=1:\n",
    "            return 1\n",
    "        return input*inter_factorial(input-1)\n",
    "    return inter_factorial(n)\n",
    "print(factorial(4))"
   ]
  },
  {
   "cell_type": "code",
   "execution_count": 15,
   "metadata": {},
   "outputs": [
    {
     "name": "stdout",
     "output_type": "stream",
     "text": [
      "24\n"
     ]
    }
   ],
   "source": [
    "# 未采用内部函数的递归计算阶乘函数\n",
    "def factorial(n):\n",
    "    # 判断n是否为整数，检查参数部分需要执行4次\n",
    "    if not isinstance(n,int):\n",
    "        raise Exception('n must be integer')\n",
    "    if n<0:\n",
    "        raise Exception('n must be greater or equal to 0')\n",
    "    if n<=1:\n",
    "        return 1\n",
    "    return n*factorial(n-1)\n",
    "\n",
    "print(factorial(4))"
   ]
  },
  {
   "cell_type": "markdown",
   "metadata": {},
   "source": [
    "## 函数变量作用域"
   ]
  },
  {
   "cell_type": "markdown",
   "metadata": {},
   "source": [
    "Python中定义的变量的作用范围(能访问到改变了的范围)是有限的。\n",
    "![图示解决]()\n",
    "- 变量`varible_1`的作用访问范围为整个Python文件。\n",
    "- 变量`varible_2`的作业范围为`func_name_2`\n",
    "- 变量`varible_3`的作业范围为`func_name_2`"
   ]
  },
  {
   "cell_type": "code",
   "execution_count": 28,
   "metadata": {},
   "outputs": [
    {
     "name": "stdout",
     "output_type": "stream",
     "text": [
      "1\n"
     ]
    },
    {
     "ename": "UnboundLocalError",
     "evalue": "local variable 'x' referenced before assignment",
     "output_type": "error",
     "traceback": [
      "\u001b[1;31m---------------------------------------------------------------------------\u001b[0m",
      "\u001b[1;31mUnboundLocalError\u001b[0m                         Traceback (most recent call last)",
      "\u001b[1;32m<ipython-input-28-827152ba6cb5>\u001b[0m in \u001b[0;36m<module>\u001b[1;34m\u001b[0m\n\u001b[0;32m      9\u001b[0m     \u001b[0mprint\u001b[0m\u001b[1;33m(\u001b[0m\u001b[0mx\u001b[0m\u001b[1;33m)\u001b[0m\u001b[1;33m\u001b[0m\u001b[1;33m\u001b[0m\u001b[0m\n\u001b[0;32m     10\u001b[0m     \u001b[0mx\u001b[0m\u001b[1;33m=\u001b[0m\u001b[1;36m2\u001b[0m\u001b[1;33m\u001b[0m\u001b[1;33m\u001b[0m\u001b[0m\n\u001b[1;32m---> 11\u001b[1;33m \u001b[0mf\u001b[0m\u001b[1;33m(\u001b[0m\u001b[1;33m)\u001b[0m\u001b[1;33m\u001b[0m\u001b[1;33m\u001b[0m\u001b[0m\n\u001b[0m\u001b[0;32m     12\u001b[0m \u001b[1;31m# Python执行前会先编译为字节码，编译时确定了函数的类型(是不是生成器)，变量检测\u001b[0m\u001b[1;33m\u001b[0m\u001b[1;33m\u001b[0m\u001b[1;33m\u001b[0m\u001b[0m\n\u001b[0;32m     13\u001b[0m \u001b[1;31m# 函数中有x=2 赋值语句，表明x为函数的内部变量\u001b[0m\u001b[1;33m\u001b[0m\u001b[1;33m\u001b[0m\u001b[1;33m\u001b[0m\u001b[0m\n",
      "\u001b[1;32m<ipython-input-28-827152ba6cb5>\u001b[0m in \u001b[0;36mf\u001b[1;34m()\u001b[0m\n\u001b[0;32m      7\u001b[0m \u001b[0mx\u001b[0m\u001b[1;33m=\u001b[0m\u001b[1;36m1\u001b[0m\u001b[1;33m\u001b[0m\u001b[1;33m\u001b[0m\u001b[0m\n\u001b[0;32m      8\u001b[0m \u001b[1;32mdef\u001b[0m \u001b[0mf\u001b[0m\u001b[1;33m(\u001b[0m\u001b[1;33m)\u001b[0m\u001b[1;33m:\u001b[0m\u001b[1;33m\u001b[0m\u001b[1;33m\u001b[0m\u001b[0m\n\u001b[1;32m----> 9\u001b[1;33m     \u001b[0mprint\u001b[0m\u001b[1;33m(\u001b[0m\u001b[0mx\u001b[0m\u001b[1;33m)\u001b[0m\u001b[1;33m\u001b[0m\u001b[1;33m\u001b[0m\u001b[0m\n\u001b[0m\u001b[0;32m     10\u001b[0m     \u001b[0mx\u001b[0m\u001b[1;33m=\u001b[0m\u001b[1;36m2\u001b[0m\u001b[1;33m\u001b[0m\u001b[1;33m\u001b[0m\u001b[0m\n\u001b[0;32m     11\u001b[0m \u001b[0mf\u001b[0m\u001b[1;33m(\u001b[0m\u001b[1;33m)\u001b[0m\u001b[1;33m\u001b[0m\u001b[1;33m\u001b[0m\u001b[0m\n",
      "\u001b[1;31mUnboundLocalError\u001b[0m: local variable 'x' referenced before assignment"
     ]
    }
   ],
   "source": [
    "x=1\n",
    "def f():\n",
    "    print(x)\n",
    "# 执行时，按LEGB的规则查找变量x\n",
    "f()\n",
    "\n",
    "x=1\n",
    "def f():\n",
    "    print(x)\n",
    "    x=2\n",
    "f()\n",
    "# Python执行前会先编译为字节码，编译时确定了函数的类型(是不是生成器)，变量检测\n",
    "# 函数中有x=2 赋值语句，表明x为函数的内部变量\n",
    "# 但是print(x)语句执行时，会按LEGB的规则查找变量x\n",
    "# 在函数内无法找到变量x与编译时的解析结果相悖，所以触发异常：UnboundLocalError"
   ]
  },
  {
   "cell_type": "code",
   "execution_count": 29,
   "metadata": {},
   "outputs": [
    {
     "ename": "UnboundLocalError",
     "evalue": "local variable 'x' referenced before assignment",
     "output_type": "error",
     "traceback": [
      "\u001b[1;31m---------------------------------------------------------------------------\u001b[0m",
      "\u001b[1;31mUnboundLocalError\u001b[0m                         Traceback (most recent call last)",
      "\u001b[1;32m<ipython-input-29-e381743b7c23>\u001b[0m in \u001b[0;36m<module>\u001b[1;34m\u001b[0m\n\u001b[0;32m      2\u001b[0m \u001b[1;32mdef\u001b[0m \u001b[0mf\u001b[0m\u001b[1;33m(\u001b[0m\u001b[1;33m)\u001b[0m\u001b[1;33m:\u001b[0m\u001b[1;33m\u001b[0m\u001b[1;33m\u001b[0m\u001b[0m\n\u001b[0;32m      3\u001b[0m     \u001b[0mx\u001b[0m\u001b[1;33m+=\u001b[0m\u001b[1;36m1\u001b[0m\u001b[1;33m\u001b[0m\u001b[1;33m\u001b[0m\u001b[0m\n\u001b[1;32m----> 4\u001b[1;33m \u001b[0mf\u001b[0m\u001b[1;33m(\u001b[0m\u001b[1;33m)\u001b[0m\u001b[1;33m\u001b[0m\u001b[1;33m\u001b[0m\u001b[0m\n\u001b[0m",
      "\u001b[1;32m<ipython-input-29-e381743b7c23>\u001b[0m in \u001b[0;36mf\u001b[1;34m()\u001b[0m\n\u001b[0;32m      1\u001b[0m \u001b[0mx\u001b[0m\u001b[1;33m=\u001b[0m\u001b[1;36m1\u001b[0m\u001b[1;33m\u001b[0m\u001b[1;33m\u001b[0m\u001b[0m\n\u001b[0;32m      2\u001b[0m \u001b[1;32mdef\u001b[0m \u001b[0mf\u001b[0m\u001b[1;33m(\u001b[0m\u001b[1;33m)\u001b[0m\u001b[1;33m:\u001b[0m\u001b[1;33m\u001b[0m\u001b[1;33m\u001b[0m\u001b[0m\n\u001b[1;32m----> 3\u001b[1;33m     \u001b[0mx\u001b[0m\u001b[1;33m+=\u001b[0m\u001b[1;36m1\u001b[0m\u001b[1;33m\u001b[0m\u001b[1;33m\u001b[0m\u001b[0m\n\u001b[0m\u001b[0;32m      4\u001b[0m \u001b[0mf\u001b[0m\u001b[1;33m(\u001b[0m\u001b[1;33m)\u001b[0m\u001b[1;33m\u001b[0m\u001b[1;33m\u001b[0m\u001b[0m\n",
      "\u001b[1;31mUnboundLocalError\u001b[0m: local variable 'x' referenced before assignment"
     ]
    }
   ],
   "source": [
    "x=1\n",
    "def f():\n",
    "    x+=1 # x=x+1 因此默认x为函数的内部变量,访问全局变量需要加global\n",
    "f()"
   ]
  },
  {
   "cell_type": "code",
   "execution_count": 30,
   "metadata": {},
   "outputs": [
    {
     "name": "stdout",
     "output_type": "stream",
     "text": [
      "[1]\n"
     ]
    }
   ],
   "source": [
    "x=[]\n",
    "def f():\n",
    "    x.append(1)\n",
    "f()\n",
    "print(x)"
   ]
  },
  {
   "cell_type": "markdown",
   "metadata": {},
   "source": [
    "## 闭包\n",
    "闭包和嵌套函数类型，只是外部函数返回的是一个函数对象，而不是具体的值。通常闭包都能写出非闭包的形式，但闭包能让函数更简洁，易懂。"
   ]
  },
  {
   "cell_type": "markdown",
   "metadata": {},
   "source": [
    "采用非闭包的形式，计算次方。"
   ]
  },
  {
   "cell_type": "code",
   "execution_count": 19,
   "metadata": {},
   "outputs": [
    {
     "name": "stdout",
     "output_type": "stream",
     "text": [
      "5**2:25\n",
      "5**3:125\n"
     ]
    }
   ],
   "source": [
    "def my_power(base,exponent):\n",
    "    return base**exponent\n",
    "print('5**2:{}'.format(my_power(5,2)))\n",
    "print('5**3:{}'.format(my_power(5,3)))"
   ]
  },
  {
   "cell_type": "markdown",
   "metadata": {},
   "source": [
    "采用闭包的形式，可以将参数变得非常简洁。"
   ]
  },
  {
   "cell_type": "code",
   "execution_count": 17,
   "metadata": {},
   "outputs": [
    {
     "name": "stdout",
     "output_type": "stream",
     "text": [
      "<class 'function'>\n",
      "5**2:25\n",
      "5**3:125\n"
     ]
    }
   ],
   "source": [
    "def my_power(exponent):\n",
    "    def exponent_of(base):\n",
    "        return base**exponent\n",
    "    return exponent_of\n",
    "square=my_power(2) # 计算平方\n",
    "print(type(square)) # 查看square的类型，为函数\n",
    "print('5**2:{}'.format(square(5)))\n",
    "cube=my_power(3) # 计算立方\n",
    "print('5**3:{}'.format(cube(5)))"
   ]
  },
  {
   "cell_type": "markdown",
   "metadata": {},
   "source": [
    "通过闭包的使用，发现闭包中的内部函数会记住使用的外部信息。"
   ]
  },
  {
   "cell_type": "markdown",
   "metadata": {},
   "source": [
    "## 匿名函数"
   ]
  },
  {
   "cell_type": "markdown",
   "metadata": {},
   "source": [
    "匿名函数是相对于普通函数而言的，它不需要使用`def`定义函数，需要时，直接编写即可。匿名函数遵循如下语法：`lambda 参数:表达式`。`lambad`表达式的主体只能有一行，因此匿名函数常用于实现简单的函数。"
   ]
  },
  {
   "cell_type": "code",
   "execution_count": 33,
   "metadata": {},
   "outputs": [
    {
     "name": "stdout",
     "output_type": "stream",
     "text": [
      "<function <lambda> at 0x000000000B9B4488>\n",
      "25\n"
     ]
    }
   ],
   "source": [
    "square=lambda x:x**2\n",
    "print(square)\n",
    "print(square(5)) # 匿名函数默认返回表达式结果。"
   ]
  },
  {
   "cell_type": "markdown",
   "metadata": {},
   "source": [
    "常见的匿名函数使用场景有：\n",
    "- map(func,iterable):对可迭代的对象中每一个元素执行函数`func`。"
   ]
  },
  {
   "cell_type": "code",
   "execution_count": 36,
   "metadata": {},
   "outputs": [
    {
     "name": "stdout",
     "output_type": "stream",
     "text": [
      "[1, 4, 9, 16, 25, 36]\n"
     ]
    }
   ],
   "source": [
    "squared=map(lambda x:x**2,[1,2,3,4,5,6])\n",
    "print(list(squared))"
   ]
  },
  {
   "cell_type": "markdown",
   "metadata": {},
   "source": [
    "- sorted(iterable,func):对可迭代的对象中的元素采用`func`返回的值进行排序。"
   ]
  },
  {
   "cell_type": "code",
   "execution_count": 37,
   "metadata": {},
   "outputs": [
    {
     "name": "stdout",
     "output_type": "stream",
     "text": [
      "['ben', 'mike', 'lucy']\n"
     ]
    }
   ],
   "source": [
    "infos={'mike':9,'lucy':3,'ben':30}# 根据value的值，排序\n",
    "print(sorted(infos,key=lambda x:x[1]))"
   ]
  },
  {
   "cell_type": "markdown",
   "metadata": {},
   "source": [
    "## 函数式编程"
   ]
  },
  {
   "cell_type": "markdown",
   "metadata": {},
   "source": [
    "函数式编程，指代码中每一个代码块都是不可变的，由纯函数组成。纯函数指函数本身相互独立、互不影响，针对同一个输入，有相同的结果。"
   ]
  },
  {
   "cell_type": "code",
   "execution_count": 40,
   "metadata": {},
   "outputs": [
    {
     "name": "stdout",
     "output_type": "stream",
     "text": [
      "[1, 4, 9]\n",
      "[1, 16, 81]\n"
     ]
    }
   ],
   "source": [
    "l=[1,2,3]\n",
    "def square_list(l):# 非纯函数，对l进行了修改\n",
    "    for index in range(len(l)):\n",
    "        l[index]**=2\n",
    "    return l\n",
    "square_list(l)\n",
    "print(l)\n",
    "square_list(l)\n",
    "print(l)"
   ]
  },
  {
   "cell_type": "code",
   "execution_count": 41,
   "metadata": {},
   "outputs": [
    {
     "name": "stdout",
     "output_type": "stream",
     "text": [
      "[1, 2, 3]\n",
      "[1, 2, 3]\n"
     ]
    }
   ],
   "source": [
    "l=[1,2,3]\n",
    "def square_list(l):# 纯函数，不对l进行修改\n",
    "    result=[]\n",
    "    for index in range(len(l)):\n",
    "        result.append(l[index]**2)\n",
    "    return result\n",
    "square_list(l)\n",
    "print(l)\n",
    "square_list(l)\n",
    "print(l)"
   ]
  },
  {
   "cell_type": "markdown",
   "metadata": {},
   "source": [
    "函数式编程得益于其纯函数和不可变的特性，使程序更健壮，而且函数式编程还有一个优点是性能高。Python中提供的能用于函数式编程的函数有：`map`、`reduce`(会将每个元素与上一个返回值相处理)、`filter`(过滤不满足条件的元素)。"
   ]
  }
 ],
 "metadata": {
  "kernelspec": {
   "display_name": "Python 3",
   "language": "python",
   "name": "python3"
  },
  "language_info": {
   "codemirror_mode": {
    "name": "ipython",
    "version": 3
   },
   "file_extension": ".py",
   "mimetype": "text/x-python",
   "name": "python",
   "nbconvert_exporter": "python",
   "pygments_lexer": "ipython3",
   "version": "3.7.2"
  }
 },
 "nbformat": 4,
 "nbformat_minor": 2
}
