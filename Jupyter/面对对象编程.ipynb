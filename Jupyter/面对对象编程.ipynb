{
 "cells": [
  {
   "cell_type": "markdown",
   "metadata": {},
   "source": [
    "# 面对对象编程"
   ]
  },
  {
   "cell_type": "markdown",
   "metadata": {},
   "source": [
    "## 类"
   ]
  },
  {
   "cell_type": "markdown",
   "metadata": {},
   "source": [
    "类、对象、成员属性、成员方法这四个概念在面对对象编程中非常重要，以人类为例讲解下这四个概念。\n",
    "- 类：具有相同属性和方法的对象的集合，是一个抽象的概念，比如人类这个概念。\n",
    "- 对象：具体的一个人。\n",
    "- 成员属性：对象具备的特征，如姓名，年龄。\n",
    "- 成员方法：对象具备的动态能力，如人行走，吃饭，成员方法只能通过对象来调用。"
   ]
  },
  {
   "cell_type": "code",
   "execution_count": 1,
   "metadata": {},
   "outputs": [
    {
     "name": "stdout",
     "output_type": "stream",
     "text": [
      "martin is eating apple\n"
     ]
    }
   ],
   "source": [
    "class Mankind(object):# class 用于定义一个类，Man对应人类这个概念，object是所有类的父类\n",
    "    def __init__(self,name,age):# __init__ 初始化一个对象 \n",
    "        self.name=name# self指向对象自身，.代表后面是成员变量，name是成员变量名\n",
    "        self.age=age\n",
    "\n",
    " \n",
    "    def eat_apple(self):# eat_apple 为成员方法，吃苹果\n",
    "        print(\"{} is eating apple\".format(self.name))\n",
    "\n",
    "me=Mankind(name='martin',age=18)# 创建并初始化一个对象，调用的方法是__init__\n",
    "me.eat_apple()# 调用成员方法"
   ]
  },
  {
   "cell_type": "markdown",
   "metadata": {},
   "source": [
    "## 类属性、类方法、静态方法"
   ]
  },
  {
   "cell_type": "markdown",
   "metadata": {},
   "source": [
    "简单了解了什么是类后，将深入了解什么是类变量、类方法、静态方法。"
   ]
  },
  {
   "cell_type": "markdown",
   "metadata": {},
   "source": [
    "还是以人类为例来讲解这四个概念。\n",
    "- 类属性：类变量用于描述全体对象都具备的属性，如现在所有的人类的母星都是地球。类变量的值通常是固定的(常量)，Python中为了编写方便，要求类变量都大写。类和类的对象都能访问类变量。\n",
    "- 类方法：类方法通常用于实现不同的`__init__`方法，类方法的第一个参数是`cls`，如创建一个男性、创建一个女性。类和类的对象都能访问类方法。\n",
    "- 静态方法：与类相关但不需要使用类或者实例。类和类的对象都能访问静态方法。"
   ]
  },
  {
   "cell_type": "code",
   "execution_count": 2,
   "metadata": {},
   "outputs": [],
   "source": [
    "EARTH_STATUS='security'\n",
    "class Mankind(object):# class 用于定义一个类，Man对应人类这个概念，object是所有类的父类\n",
    "    MATHER_STAR='Earth' # 类方法\n",
    "    def __init__(self,name,age,gender):# __init__ 初始化一个对象 \n",
    "        self.name=name# self指向对象自身，.代表后面是成员变量，name是成员变量名\n",
    "        self.age=age\n",
    "        self.gender=gender\n",
    "    def eat_apple(self):# eat_apple 为成员方法，吃苹果\n",
    "        print(\"{} is eating apple\".format(self.name))\n",
    "    \n",
    "    @classmethod\n",
    "    def create_male(cls,name,age):# 类方法，cls代表类本身，调用Mankind.create_male(..)时，会自动填充cls\n",
    "        return cls(name=name,age=age,gender='male')\n",
    "    \n",
    "    @staticmethod\n",
    "    def is_safe(): # 静态方法\n",
    "        if EARTH_STATUS=='destory':\n",
    "            return False\n",
    "        return True"
   ]
  },
  {
   "cell_type": "markdown",
   "metadata": {},
   "source": [
    "## 继承"
   ]
  },
  {
   "cell_type": "markdown",
   "metadata": {},
   "source": [
    "继承是指类B在类A的基础上扩展，类A为父类，类B为子类。使用继承能有效减少重复代码的数量。"
   ]
  },
  {
   "cell_type": "code",
   "execution_count": 8,
   "metadata": {},
   "outputs": [
    {
     "name": "stdout",
     "output_type": "stream",
     "text": [
      "martin is eating apple\n",
      "I'am male\n"
     ]
    }
   ],
   "source": [
    "class Mankind(object):# class 用于定义一个类，Man对应人类这个概念，object是所有类的父类\n",
    "    def __init__(self,name,age):# __init__ 初始化一个对象 \n",
    "        self.name=name# self指向对象自身，.代表后面是成员变量，name是成员变量名\n",
    "        self.age=age\n",
    " \n",
    "    def eat_apple(self):# eat_apple 为成员方法，吃苹果\n",
    "        print(\"{} is eating apple\".format(self.name))\n",
    "\n",
    "class Male(Mankind):\n",
    "    def __init__(self, name, age):\n",
    "        super().__init__(name, age)\n",
    "        self.gender = 'male'\n",
    "\n",
    "    def get_gender(self):\n",
    "        print(\"I'am {}\".format(self.gender))\n",
    "        \n",
    "me=Male(name='martin',age=18)# 创建并初始化一个对象，调用的方法是__init__\n",
    "me.eat_apple()# 调用从父类继承的成员方法\n",
    "me.get_gender()"
   ]
  },
  {
   "cell_type": "markdown",
   "metadata": {},
   "source": [
    "类里面还有一种比较特殊的类：抽象类，通过抽象类，定义好方法，具体方法的实现交由子类实现，通过抽象类定义的接口，类与类之间能更好的协作。"
   ]
  },
  {
   "cell_type": "code",
   "execution_count": 10,
   "metadata": {},
   "outputs": [
    {
     "ename": "TypeError",
     "evalue": "Can't instantiate abstract class Male with abstract methods get_gender",
     "output_type": "error",
     "traceback": [
      "\u001b[1;31m---------------------------------------------------------------------------\u001b[0m",
      "\u001b[1;31mTypeError\u001b[0m                                 Traceback (most recent call last)",
      "\u001b[1;32m<ipython-input-10-b5f73f994659>\u001b[0m in \u001b[0;36m<module>\u001b[1;34m\u001b[0m\n\u001b[0;32m     17\u001b[0m         \u001b[0msuper\u001b[0m\u001b[1;33m(\u001b[0m\u001b[1;33m)\u001b[0m\u001b[1;33m.\u001b[0m\u001b[0m__init__\u001b[0m\u001b[1;33m(\u001b[0m\u001b[0mname\u001b[0m\u001b[1;33m,\u001b[0m \u001b[0mage\u001b[0m\u001b[1;33m)\u001b[0m\u001b[1;33m\u001b[0m\u001b[1;33m\u001b[0m\u001b[0m\n\u001b[0;32m     18\u001b[0m         \u001b[0mself\u001b[0m\u001b[1;33m.\u001b[0m\u001b[0mgender\u001b[0m \u001b[1;33m=\u001b[0m \u001b[1;34m'male'\u001b[0m\u001b[1;33m\u001b[0m\u001b[1;33m\u001b[0m\u001b[0m\n\u001b[1;32m---> 19\u001b[1;33m \u001b[0mme\u001b[0m\u001b[1;33m=\u001b[0m\u001b[0mMale\u001b[0m\u001b[1;33m(\u001b[0m\u001b[0mname\u001b[0m\u001b[1;33m=\u001b[0m\u001b[1;34m'martin'\u001b[0m\u001b[1;33m,\u001b[0m\u001b[0mage\u001b[0m\u001b[1;33m=\u001b[0m\u001b[1;36m18\u001b[0m\u001b[1;33m)\u001b[0m\u001b[1;33m\u001b[0m\u001b[1;33m\u001b[0m\u001b[0m\n\u001b[0m",
      "\u001b[1;31mTypeError\u001b[0m: Can't instantiate abstract class Male with abstract methods get_gender"
     ]
    }
   ],
   "source": [
    "from abc import ABCMeta,abstractmethod\n",
    "\n",
    "class Mankind(metaclass=ABCMeta):# 创建抽象基类\n",
    "    def __init__(self,name,age):# __init__ 初始化一个对象 \n",
    "        self.name=name# self指向对象自身，.代表后面是成员变量，name是成员变量名\n",
    "        self.age=age\n",
    " \n",
    "    def eat_apple(self):# eat_apple 为成员方法，吃苹果\n",
    "        print(\"{} is eating apple\".format(self.name))\n",
    "\n",
    "    @abstractmethod\n",
    "    def get_gender(self): # 定义抽象方法，如果子类不实现该方法，创建对象会报错\n",
    "        raise NotImplemented\n",
    "\n",
    "class Male(Mankind):\n",
    "    def __init__(self, name, age):\n",
    "        super().__init__(name, age)\n",
    "        self.gender = 'male'\n",
    "me=Male(name='martin',age=18)"
   ]
  },
  {
   "cell_type": "code",
   "execution_count": 12,
   "metadata": {},
   "outputs": [
    {
     "name": "stdout",
     "output_type": "stream",
     "text": [
      "martin is eating apple\n",
      "I'am male\n"
     ]
    }
   ],
   "source": [
    "class Male(Mankind):\n",
    "    def __init__(self, name, age):\n",
    "        super().__init__(name, age)\n",
    "        self.gender = 'male'\n",
    "    def get_gender(self):\n",
    "        print(\"I'am {}\".format(self.gender))\n",
    "me=Male(name='martin',age=18)\n",
    "me.eat_apple()# 调用从父类继承的成员方法\n",
    "me.get_gender()"
   ]
  },
  {
   "cell_type": "markdown",
   "metadata": {},
   "source": [
    "## 总结\n",
    "面向对象的四要素：类、对象、属性、方法。\n",
    "- 菱形基础问题，如果不采用super()调用父类的初始化方法(采用C3算法避免重复调用)，而使用父类.`__init__`的方法，会重复调用交叉处的初始化方法，因为两条之路都要走。\n",
    "- 子类对父类的抽象方法实现，重载使用的是typing模块的overload。\n",
    "- 重写是方法名，参数不变，只是将里面的实现重新写一遍。\n",
    "- 重载：方法名相同，但是参数不同。"
   ]
  },
  {
   "cell_type": "code",
   "execution_count": 20,
   "metadata": {},
   "outputs": [],
   "source": [
    "class A(object):\n",
    "    def __init__(self):\n",
    "        print('A in')\n",
    "        super(A,self).__init__()\n",
    "        print('A out')\n",
    "        \n",
    "class B(A):\n",
    "    def __init__(self):\n",
    "        print('B in')\n",
    "        super(B,self).__init__()\n",
    "        print('B out')\n",
    "        \n",
    "class C(A):\n",
    "    def __init__(self):\n",
    "        print('C in')\n",
    "        super(C,self).__init__()\n",
    "        print('C out')\n",
    "        \n",
    "class D(B,C):\n",
    "    def __init__(self):\n",
    "        print('D in')\n",
    "        super().__init__()\n",
    "        print('D out')"
   ]
  },
  {
   "cell_type": "code",
   "execution_count": 21,
   "metadata": {},
   "outputs": [
    {
     "data": {
      "text/plain": [
       "(__main__.D, __main__.B, __main__.C, __main__.A, object)"
      ]
     },
     "execution_count": 21,
     "metadata": {},
     "output_type": "execute_result"
    }
   ],
   "source": [
    "D.__mro__"
   ]
  },
  {
   "cell_type": "code",
   "execution_count": 24,
   "metadata": {},
   "outputs": [
    {
     "name": "stdout",
     "output_type": "stream",
     "text": [
      "D in\n",
      "B in\n",
      "C in\n",
      "A in\n",
      "A out\n",
      "C out\n",
      "B out\n",
      "D out\n",
      "super(D,d).__init__()\n",
      "B in\n",
      "C in\n",
      "A in\n",
      "A out\n",
      "C out\n",
      "B out\n"
     ]
    }
   ],
   "source": [
    "d=D()\n",
    "print('super(D,d).__init__()')\n",
    "super(D,d).__init__()"
   ]
  },
  {
   "cell_type": "code",
   "execution_count": 65,
   "metadata": {},
   "outputs": [],
   "source": [
    "class A(object):\n",
    "    def __init__(self):\n",
    "        print('A in')\n",
    "        super(A,self).__init__()\n",
    "        print('A out')\n",
    "        \n",
    "class B(A):\n",
    "    def __init__(self):\n",
    "        print('B in')\n",
    "        super(B,B).__init__(self)\n",
    "        # 这里因为self是D的对象，因此提供的__mro__=(__main__.D, __main__.B, __main__.C, __main__.A, object)\n",
    "        # super(起点,提供mro的实例或类) 返回的是mro中起点后第一个类\n",
    "        # super(B,self).__init__(self) 会执行C的初始化，所有会报错\n",
    "        #super(B,self).__init__(self)\n",
    "        print('B out')\n",
    "        \n",
    "class C(A):\n",
    "    def __init__(self,c):\n",
    "        print('C in')\n",
    "        super(C,C).__init__(self)\n",
    "        print('C out')\n",
    "        \n",
    "class D(B,C):\n",
    "    def __init__(self):\n",
    "        print('D in')\n",
    "        #super(D,self).__init__()\n",
    "        B.__init__(self)\n",
    "        C.__init__(self,'c')\n",
    "        print('D out')"
   ]
  },
  {
   "cell_type": "code",
   "execution_count": 66,
   "metadata": {},
   "outputs": [
    {
     "name": "stdout",
     "output_type": "stream",
     "text": [
      "D in\n",
      "B in\n",
      "A in\n",
      "A out\n",
      "B out\n",
      "C in\n",
      "A in\n",
      "A out\n",
      "C out\n",
      "D out\n"
     ]
    },
    {
     "data": {
      "text/plain": [
       "<__main__.D at 0xc3e1128>"
      ]
     },
     "execution_count": 66,
     "metadata": {},
     "output_type": "execute_result"
    }
   ],
   "source": [
    "D()"
   ]
  },
  {
   "cell_type": "code",
   "execution_count": null,
   "metadata": {},
   "outputs": [],
   "source": []
  }
 ],
 "metadata": {
  "kernelspec": {
   "display_name": "Python 3",
   "language": "python",
   "name": "python3"
  },
  "language_info": {
   "codemirror_mode": {
    "name": "ipython",
    "version": 3
   },
   "file_extension": ".py",
   "mimetype": "text/x-python",
   "name": "python",
   "nbconvert_exporter": "python",
   "pygments_lexer": "ipython3",
   "version": "3.7.2"
  }
 },
 "nbformat": 4,
 "nbformat_minor": 2
}
