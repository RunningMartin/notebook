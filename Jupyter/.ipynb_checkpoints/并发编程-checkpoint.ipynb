{
 "cells": [
  {
   "cell_type": "markdown",
   "metadata": {},
   "source": [
    "# 并发编程"
   ]
  },
  {
   "cell_type": "markdown",
   "metadata": {},
   "source": [
    "## 并发和并行"
   ]
  },
  {
   "cell_type": "markdown",
   "metadata": {},
   "source": [
    "- 并发(Concurrency)：一个时间段能执行多个任务，但是同一时刻只能执行一个任务，通过多线程或asyncio的task可以实现。多线程中线程切换由操作系统完成，因此存在race condition问题，需要使用锁来避免这个问题。异步中，任务切换由用户自行切换，因此不存在race condition。并发通常用于I/O操作频繁的场景，I/O耗时比CPU耗时长。\n",
    "![并发图]()\n",
    "- 并行(Paralleliem)：同一时刻执行多个任务，Python中可以通过多线程实现，常用于CPU heavy的任务，使用多个CPU来加速。\n",
    "![并行图]()"
   ]
  },
  {
   "cell_type": "markdown",
   "metadata": {},
   "source": [
    "## Future模块"
   ]
  },
  {
   "cell_type": "markdown",
   "metadata": {},
   "source": [
    "- 创建线程池：`concurrent.futures.ThreadPoolExecutor(max_workers=num)`\n",
    "```python\n",
    "with concurrent.futures.ThreadPoolExecutor(max_workers=5) as executor:\n",
    "    executor.map(函数,参数)\n",
    "```\n",
    "- 创建进程池：`concurrent.futures.ThreadPoolExecutor(max_workers=num)`\n",
    "```python\n",
    "with concurrent.futures.ThreadPoolExecutor(max_workers=5) as executor:\n",
    "    executor.map(函数,参数)\n",
    "```"
   ]
  },
  {
   "cell_type": "markdown",
   "metadata": {},
   "source": [
    "## Future是什么？"
   ]
  },
  {
   "cell_type": "markdown",
   "metadata": {},
   "source": [
    "`Future`模块表示有延迟的操作，它将处于等待状态的操作打包放在队列中，可以通过查询这些操作的状态。\n",
    "执行器的方法有：\n",
    "- `map`：和map相同\n",
    "- `submit`:提交新任务，返回future。\n",
    "\n",
    "常用的`Future`模块方法有：\n",
    "- `done()`：立即返回是否执行完毕。\n",
    "- `add_done_callback(fn)`：当Future执行完毕后，调用函数fn。\n",
    "- `result()`：返回Future执行后的结果或异常。\n",
    "- `as_compleled(fs)`：执行给定的future，执行完毕后，返回future。"
   ]
  },
  {
   "cell_type": "markdown",
   "metadata": {},
   "source": [
    "## Asyncio"
   ]
  },
  {
   "cell_type": "markdown",
   "metadata": {},
   "source": [
    "### 同步与异步"
   ]
  },
  {
   "cell_type": "markdown",
   "metadata": {},
   "source": [
    "- 同步：多个任务一个接一个的完成。\n",
    "- 异步：一个任务阻塞时，选取其他能执行的任务执行。"
   ]
  },
  {
   "cell_type": "markdown",
   "metadata": {},
   "source": [
    "### Asyncio工作原理"
   ]
  },
  {
   "cell_type": "markdown",
   "metadata": {},
   "source": [
    "Asyncio只有一个线程，每个任务被封装为future对象，这些任务被event loop管理。假设任务只有两个状态：\n",
    "- 预备状态：任务空闲，等待执行。\n",
    "- 等待状态：任务已经启动，但在等待外部操作完成。\n",
    "\n",
    "event loop通过维护两个任务列表，从预备列表中选取一个任务，将控制权交给任务。当控制权回到event loop时，根据状态判断其是否放在等待队列，然后遍历等待队列，看哪些任务可以挪到预备列表，开始新的一轮循环。"
   ]
  }
 ],
 "metadata": {
  "kernelspec": {
   "display_name": "Python 3",
   "language": "python",
   "name": "python3"
  },
  "language_info": {
   "codemirror_mode": {
    "name": "ipython",
    "version": 3
   },
   "file_extension": ".py",
   "mimetype": "text/x-python",
   "name": "python",
   "nbconvert_exporter": "python",
   "pygments_lexer": "ipython3",
   "version": "3.7.3"
  },
  "toc": {
   "base_numbering": 1,
   "nav_menu": {},
   "number_sections": true,
   "sideBar": true,
   "skip_h1_title": false,
   "title_cell": "Table of Contents",
   "title_sidebar": "Contents",
   "toc_cell": false,
   "toc_position": {},
   "toc_section_display": true,
   "toc_window_display": false
  },
  "varInspector": {
   "cols": {
    "lenName": 16,
    "lenType": 16,
    "lenVar": 40
   },
   "kernels_config": {
    "python": {
     "delete_cmd_postfix": "",
     "delete_cmd_prefix": "del ",
     "library": "var_list.py",
     "varRefreshCmd": "print(var_dic_list())"
    },
    "r": {
     "delete_cmd_postfix": ") ",
     "delete_cmd_prefix": "rm(",
     "library": "var_list.r",
     "varRefreshCmd": "cat(var_dic_list()) "
    }
   },
   "types_to_exclude": [
    "module",
    "function",
    "builtin_function_or_method",
    "instance",
    "_Feature"
   ],
   "window_display": false
  }
 },
 "nbformat": 4,
 "nbformat_minor": 2
}
