{
 "cells": [
  {
   "cell_type": "markdown",
   "metadata": {},
   "source": [
    "# 垃圾回收机制"
   ]
  },
  {
   "cell_type": "markdown",
   "metadata": {},
   "source": [
    "没有垃圾回收机制会导致程序不能释放不再使用的内存(内存泄露)。"
   ]
  },
  {
   "cell_type": "markdown",
   "metadata": {},
   "source": [
    "## 引用计数"
   ]
  },
  {
   "cell_type": "markdown",
   "metadata": {},
   "source": []
  },
  {
   "cell_type": "code",
   "execution_count": 2,
   "metadata": {
    "ExecuteTime": {
     "end_time": "2019-09-25T13:14:25.239759Z",
     "start_time": "2019-09-25T13:14:24.797817Z"
    }
   },
   "outputs": [
    {
     "name": "stdout",
     "output_type": "stream",
     "text": [
      "before a created memory used:54.1640625 MB\n",
      "after a created memory used:439.76953125 MB\n",
      "end memory used:54.484375 MB\n"
     ]
    }
   ],
   "source": [
    "import os\n",
    "import psutil\n",
    "def show_memory(hint):\n",
    "    pid=os.getpid()\n",
    "    p=psutil.Process(pid)\n",
    "    info =p.memory_full_info()\n",
    "    memeory=info.uss/1024.0/1024\n",
    "    print(\"{} memory used:{} MB\".format(hint,memeory))\n",
    "\n",
    "def func():\n",
    "    show_memory('before a created')\n",
    "    a=[i for i in range(10000000)]\n",
    "    show_memory('after a created')\n",
    "\n",
    "func()\n",
    "show_memory('end')"
   ]
  },
  {
   "cell_type": "markdown",
   "metadata": {},
   "source": [
    "列表a创建后，内存占用变大，当`func`函数执行完毕后，内存又恢复正常水平，这是因为列表a是局部变量，函数执行完毕后，引用a被销毁，a指向的列表对象的引用计数为0，Python进行垃圾回收，回收a指向的列表对象。可以通过`sys.getrefcount()`获取引用计数。"
   ]
  },
  {
   "cell_type": "code",
   "execution_count": 8,
   "metadata": {},
   "outputs": [
    {
     "data": {
      "text/plain": [
       "2"
      ]
     },
     "execution_count": 8,
     "metadata": {},
     "output_type": "execute_result"
    }
   ],
   "source": [
    "import sys\n",
    "dd=[]\n",
    "sys.getrefcount(dd) # 一个引用来自dd，getrefcount的参数也会引用"
   ]
  },
  {
   "cell_type": "code",
   "execution_count": 10,
   "metadata": {},
   "outputs": [
    {
     "name": "stdout",
     "output_type": "stream",
     "text": [
      "4\n",
      "2\n"
     ]
    }
   ],
   "source": [
    "def f(a):# 函数调用时，会产生两次引用，函数栈和函数参数\n",
    "    print(sys.getrefcount(a))\n",
    "f(dd)\n",
    "print(sys.getrefcount(dd))"
   ]
  },
  {
   "cell_type": "markdown",
   "metadata": {},
   "source": [
    "还能手动启动垃圾回收。"
   ]
  },
  {
   "cell_type": "code",
   "execution_count": 6,
   "metadata": {
    "ExecuteTime": {
     "end_time": "2019-09-25T13:16:03.203001Z",
     "start_time": "2019-09-25T13:16:03.195709Z"
    }
   },
   "outputs": [
    {
     "ename": "NameError",
     "evalue": "name 'dd' is not defined",
     "output_type": "error",
     "traceback": [
      "\u001b[0;31m---------------------------------------------------------------------------\u001b[0m",
      "\u001b[0;31mNameError\u001b[0m                                 Traceback (most recent call last)",
      "\u001b[0;32m<ipython-input-6-1f79aacc1420>\u001b[0m in \u001b[0;36m<module>\u001b[0;34m\u001b[0m\n\u001b[1;32m      1\u001b[0m \u001b[0;32mimport\u001b[0m \u001b[0mgc\u001b[0m\u001b[0;34m\u001b[0m\u001b[0;34m\u001b[0m\u001b[0m\n\u001b[0;32m----> 2\u001b[0;31m \u001b[0;32mdel\u001b[0m \u001b[0mdd\u001b[0m\u001b[0;31m# 删除引用\u001b[0m\u001b[0;34m\u001b[0m\u001b[0;34m\u001b[0m\u001b[0m\n\u001b[0m\u001b[1;32m      3\u001b[0m \u001b[0mgc\u001b[0m\u001b[0;34m.\u001b[0m\u001b[0mcollect\u001b[0m\u001b[0;34m(\u001b[0m\u001b[0;34m)\u001b[0m\u001b[0;31m# 回收内存\u001b[0m\u001b[0;34m\u001b[0m\u001b[0;34m\u001b[0m\u001b[0m\n",
      "\u001b[0;31mNameError\u001b[0m: name 'dd' is not defined"
     ]
    }
   ],
   "source": [
    "import gc\n",
    "del dd# 删除引用\n",
    "gc.collect()# 回收内存"
   ]
  },
  {
   "cell_type": "code",
   "execution_count": 12,
   "metadata": {},
   "outputs": [
    {
     "data": {
      "text/plain": [
       "1123"
      ]
     },
     "execution_count": 12,
     "metadata": {},
     "output_type": "execute_result"
    }
   ],
   "source": [
    "a=1123\n",
    "d=a\n",
    "del d\n",
    "a"
   ]
  },
  {
   "cell_type": "markdown",
   "metadata": {},
   "source": [
    "## 循环引用"
   ]
  },
  {
   "cell_type": "markdown",
   "metadata": {},
   "source": [
    "如果发生循环引用，引用计数将不起作用。"
   ]
  },
  {
   "cell_type": "code",
   "execution_count": 4,
   "metadata": {
    "ExecuteTime": {
     "end_time": "2019-09-25T13:15:47.455471Z",
     "start_time": "2019-09-25T13:15:47.365561Z"
    }
   },
   "outputs": [
    {
     "name": "stdout",
     "output_type": "stream",
     "text": [
      "init memory used:61.87109375 MB\n",
      "created memory used:139.24609375 MB\n",
      "finished memory used:139.25 MB\n"
     ]
    }
   ],
   "source": [
    "def func():\n",
    "    show_memory('init')\n",
    "    a=[i for i in range(1000000)]\n",
    "    b=[i for i in range(1000000)]\n",
    "    show_memory('created')\n",
    "    a.append(b)\n",
    "    b.append(a)\n",
    "\n",
    "func()\n",
    "show_memory('finished')# 不会回收"
   ]
  },
  {
   "cell_type": "code",
   "execution_count": 5,
   "metadata": {
    "ExecuteTime": {
     "end_time": "2019-09-25T13:15:55.605811Z",
     "start_time": "2019-09-25T13:15:55.557304Z"
    }
   },
   "outputs": [
    {
     "ename": "NameError",
     "evalue": "name 'gc' is not defined",
     "output_type": "error",
     "traceback": [
      "\u001b[0;31m---------------------------------------------------------------------------\u001b[0m",
      "\u001b[0;31mNameError\u001b[0m                                 Traceback (most recent call last)",
      "\u001b[0;32m<ipython-input-5-35e5c8a5ab93>\u001b[0m in \u001b[0;36m<module>\u001b[0;34m\u001b[0m\n\u001b[0;32m----> 1\u001b[0;31m \u001b[0mgc\u001b[0m\u001b[0;34m.\u001b[0m\u001b[0mcollect\u001b[0m\u001b[0;34m(\u001b[0m\u001b[0;34m)\u001b[0m\u001b[0;34m\u001b[0m\u001b[0;34m\u001b[0m\u001b[0m\n\u001b[0m",
      "\u001b[0;31mNameError\u001b[0m: name 'gc' is not defined"
     ]
    }
   ],
   "source": [
    "gc.collect()"
   ]
  },
  {
   "cell_type": "markdown",
   "metadata": {},
   "source": [
    "Python针对循环引用，使用标记清除算法和分代收集来执行自动垃圾回收。\n",
    "- 标记清除算法：通过一个节点去遍历所有的对象，并标记途径的对象，遍历结束后，没有被标记的对象，将被来及回收。每次执行遍历，性能浪费很大，Python采用双向链表维护了一个数据结构，并且只考虑容器类的对象(只有容器类对象才会产生循环引用)。\n",
    "- 分代收集：分代收集是一个优化手段，所有的对象被分为3代，刚刚创建的为0代，经历一次垃圾回收，任然存在的对象将从上一代挪到下一代。每一代的自动启动垃圾回收的阈值可以设置，当到达阈值后，将自动启动这一代的垃圾回收(0代的对象更可能被垃圾回收)。"
   ]
  },
  {
   "cell_type": "markdown",
   "metadata": {},
   "source": [
    "## 内存泄露调试"
   ]
  },
  {
   "cell_type": "markdown",
   "metadata": {},
   "source": [
    "`objgraph`模块，可视化显示引用关系：\n",
    "- show_refs()：引用关系图。\n",
    "- show_backrefs():"
   ]
  }
 ],
 "metadata": {
  "kernelspec": {
   "display_name": "Python 3",
   "language": "python",
   "name": "python3"
  },
  "language_info": {
   "codemirror_mode": {
    "name": "ipython",
    "version": 3
   },
   "file_extension": ".py",
   "mimetype": "text/x-python",
   "name": "python",
   "nbconvert_exporter": "python",
   "pygments_lexer": "ipython3",
   "version": "3.7.3"
  },
  "toc": {
   "base_numbering": 1,
   "nav_menu": {},
   "number_sections": true,
   "sideBar": true,
   "skip_h1_title": false,
   "title_cell": "Table of Contents",
   "title_sidebar": "Contents",
   "toc_cell": false,
   "toc_position": {},
   "toc_section_display": true,
   "toc_window_display": false
  },
  "varInspector": {
   "cols": {
    "lenName": 16,
    "lenType": 16,
    "lenVar": 40
   },
   "kernels_config": {
    "python": {
     "delete_cmd_postfix": "",
     "delete_cmd_prefix": "del ",
     "library": "var_list.py",
     "varRefreshCmd": "print(var_dic_list())"
    },
    "r": {
     "delete_cmd_postfix": ") ",
     "delete_cmd_prefix": "rm(",
     "library": "var_list.r",
     "varRefreshCmd": "cat(var_dic_list()) "
    }
   },
   "types_to_exclude": [
    "module",
    "function",
    "builtin_function_or_method",
    "instance",
    "_Feature"
   ],
   "window_display": false
  }
 },
 "nbformat": 4,
 "nbformat_minor": 2
}
