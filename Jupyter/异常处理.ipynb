{
 "cells": [
  {
   "cell_type": "markdown",
   "metadata": {},
   "source": [
    "# 异常处理\n",
    "编写程序会遇到很多意想不到的的问题，从而触发异常，因此这一节将学习如何处理异常，先来看一个例子。"
   ]
  },
  {
   "cell_type": "code",
   "execution_count": 1,
   "metadata": {},
   "outputs": [
    {
     "ename": "ZeroDivisionError",
     "evalue": "division by zero",
     "output_type": "error",
     "traceback": [
      "\u001b[1;31m---------------------------------------------------------------------------\u001b[0m",
      "\u001b[1;31mZeroDivisionError\u001b[0m                         Traceback (most recent call last)",
      "\u001b[1;32m<ipython-input-1-9e1622b385b6>\u001b[0m in \u001b[0;36m<module>\u001b[1;34m\u001b[0m\n\u001b[1;32m----> 1\u001b[1;33m \u001b[1;36m1\u001b[0m\u001b[1;33m/\u001b[0m\u001b[1;36m0\u001b[0m\u001b[1;33m\u001b[0m\u001b[1;33m\u001b[0m\u001b[0m\n\u001b[0m",
      "\u001b[1;31mZeroDivisionError\u001b[0m: division by zero"
     ]
    }
   ],
   "source": [
    "a=1/0"
   ]
  },
  {
   "cell_type": "markdown",
   "metadata": {},
   "source": [
    "这里由于除数是0，导致了`ZeroDivisionError`异常，表达除数不能为0。"
   ]
  },
  {
   "cell_type": "markdown",
   "metadata": {},
   "source": [
    "## 如何处理异常"
   ]
  },
  {
   "cell_type": "markdown",
   "metadata": {},
   "source": [
    "如果程序出现了异常后，不加以处理，程序将终止并退出。为了避免程序退出，需要采用`try`、`except`来处理异常，其语法是：\n",
    "```python\n",
    "try:\n",
    "    可能触发异常的语句\n",
    "except 异常类型:\n",
    "    # 捕获具体的异常\n",
    "    处理操作\n",
    "except:\n",
    "    # 能捕获任意的异常\n",
    "    # 处理异常信息\n",
    "finally:\n",
    "    正常处理和出现异常都会执行的操作\n",
    "```"
   ]
  },
  {
   "cell_type": "code",
   "execution_count": 4,
   "metadata": {},
   "outputs": [
    {
     "name": "stdout",
     "output_type": "stream",
     "text": [
      "处理完成，结果为0.5\n"
     ]
    }
   ],
   "source": [
    "a=1\n",
    "b=2\n",
    "try:\n",
    "    result=a/b\n",
    "except ZeroDivisionError as err:\n",
    "    print('err:{},除数不能为0'.format(err))\n",
    "    result=0\n",
    "finally:\n",
    "    print('处理完成，结果为{}'.format(result))"
   ]
  },
  {
   "cell_type": "markdown",
   "metadata": {},
   "source": [
    "## 自定义异常"
   ]
  },
  {
   "cell_type": "markdown",
   "metadata": {},
   "source": [
    "异常的父类是`Exception`，因此如果要自定义异常，直接创建一个`Exception`的子类即可。\n",
    "```python\n",
    "class 异常名称(Exception):\n",
    "    其他信息\n",
    "```"
   ]
  },
  {
   "cell_type": "code",
   "execution_count": 5,
   "metadata": {
    "scrolled": true
   },
   "outputs": [
    {
     "name": "stdout",
     "output_type": "stream",
     "text": [
      "1 is invalid input\n"
     ]
    }
   ],
   "source": [
    "class InvalidInput(Exception):\n",
    "    def __init__(self,value):\n",
    "        # 创建一个InvalidInput对象\n",
    "        self.value=value\n",
    "    def __str__(self):\n",
    "        # print 打印时的信息\n",
    "        return \"{} is invalid input\".format(self.value)\n",
    "try:\n",
    "    raise InvalidInput(1)   # 创建一个InvalidInput对象\n",
    "except InvalidInput as err:\n",
    "    print(err)"
   ]
  },
  {
   "cell_type": "markdown",
   "metadata": {},
   "source": [
    "## 注意"
   ]
  },
  {
   "cell_type": "markdown",
   "metadata": {},
   "source": [
    "如果我们不能确认代码是否能执行成功，这时就需要使用异常处理，但是不要滥用异常，如：从字典中获取一个键对应的值。"
   ]
  },
  {
   "cell_type": "code",
   "execution_count": 7,
   "metadata": {},
   "outputs": [
    {
     "name": "stdout",
     "output_type": "stream",
     "text": [
      "'c':key not in dict\n"
     ]
    }
   ],
   "source": [
    "my_dict={'a':1,'b':2}\n",
    "try:\n",
    "    result=my_dict['c']\n",
    "except KeyError as err:\n",
    "    print('{}:key not in dict'.format(err))"
   ]
  },
  {
   "cell_type": "markdown",
   "metadata": {},
   "source": [
    "代码中到处都是异常处理，则会导致代码很难看，针对这类逻辑控制，一般不用异常处理。"
   ]
  },
  {
   "cell_type": "code",
   "execution_count": 8,
   "metadata": {},
   "outputs": [],
   "source": [
    "my_dict={'a':1,'b':2}\n",
    "result=my_dict.get('c',None)\n",
    "# 或者\n",
    "if 'c'  in my_dict:\n",
    "    result=my_dict['c']\n",
    "else:\n",
    "    result=None"
   ]
  }
 ],
 "metadata": {
  "kernelspec": {
   "display_name": "Python 3",
   "language": "python",
   "name": "python3"
  },
  "language_info": {
   "codemirror_mode": {
    "name": "ipython",
    "version": 3
   },
   "file_extension": ".py",
   "mimetype": "text/x-python",
   "name": "python",
   "nbconvert_exporter": "python",
   "pygments_lexer": "ipython3",
   "version": "3.7.2"
  }
 },
 "nbformat": 4,
 "nbformat_minor": 2
}
