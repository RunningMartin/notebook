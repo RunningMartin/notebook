{
 "cells": [
  {
   "cell_type": "markdown",
   "metadata": {},
   "source": [
    "# 全局解释器锁(GIL)"
   ]
  },
  {
   "cell_type": "code",
   "execution_count": 1,
   "metadata": {},
   "outputs": [
    {
     "name": "stdout",
     "output_type": "stream",
     "text": [
      "7.03 s ± 138 ms per loop (mean ± std. dev. of 7 runs, 1 loop each)\n"
     ]
    }
   ],
   "source": [
    "def Count(n):\n",
    "    while(n):\n",
    "        n-=1\n",
    "%timeit Count(100000000)"
   ]
  },
  {
   "cell_type": "code",
   "execution_count": 2,
   "metadata": {},
   "outputs": [
    {
     "name": "stdout",
     "output_type": "stream",
     "text": [
      "used:7.094354336000038\n"
     ]
    }
   ],
   "source": [
    "# 多线程加速\n",
    "from threading import Thread\n",
    "n=100000000\n",
    "t1=Thread(target=Count,args=(n//2,))\n",
    "t2=Thread(target=Count,args=(n//2,))\n",
    "import time\n",
    "start=time.perf_counter()\n",
    "t1.start()\n",
    "t2.start()\n",
    "t1.join()\n",
    "t2.join()\n",
    "end=time.perf_counter()\n",
    "print('used:{}'.format(end-start))"
   ]
  },
  {
   "cell_type": "markdown",
   "metadata": {},
   "source": [
    "通过上面的使用发现多线程并没有加速`Count`函数的计算，这是因为每个线程在Cpython解释器中执行时，会锁住当前线程，阻止别的线程执行，因此Python中的多线程是通过交错执行，模拟并行，这是为了解决两个问题：\n",
    "- CPython采用引用计数管理内存(`sys.getrefcount()`)，当引用计数为0时，自动释放内存，因此为了规避多个线程同时引用一个实例，导致引用计数的race condition(竞争风险问题)，可能会出现引用计数只加1，导致内存污染(一个线程释放后，如果引用计数为0，实例内存回收，下一个线程无法引用该实例)。\n",
    "- CPython使用了大量C语言库，这些库很多都不是原生线程安全的(线程安全降低性能和增加复杂度)。\n",
    "\n",
    "线程在执行前获取GIL，执行完毕后，释放GIL。CPython还有一个轮询机制避免线程不释放GIL，时间间隔为15毫秒。"
   ]
  },
  {
   "cell_type": "markdown",
   "metadata": {},
   "source": [
    "## 线程安全"
   ]
  },
  {
   "cell_type": "markdown",
   "metadata": {},
   "source": [
    "因为GIL的原因，Python中的线程是线性执行的，但是由于轮询抢占机制，还是必须考虑线程安全(线程A获取x的值后后，CPU执行权被线程B拿走了后，修改了x的值，因此线程A的x值存在问题)。"
   ]
  },
  {
   "cell_type": "code",
   "execution_count": 74,
   "metadata": {},
   "outputs": [
    {
     "name": "stdout",
     "output_type": "stream",
     "text": [
      "100000\n"
     ]
    }
   ],
   "source": [
    "n=0\n",
    "def f():\n",
    "    global n\n",
    "    n+=1\n",
    "\n",
    "threads=[]\n",
    "# 如果是线性，那么结果理论上应该为100000，有时结果可能为99999\n",
    "def test():\n",
    "    for _ in range(100000):\n",
    "        threads.append(Thread(target=f))\n",
    "\n",
    "    for thread in threads:\n",
    "        thread.start()\n",
    "\n",
    "    for thread in threads:\n",
    "        thread.join()\n",
    "\n",
    "test()\n",
    "print(n)"
   ]
  },
  {
   "cell_type": "code",
   "execution_count": 75,
   "metadata": {},
   "outputs": [
    {
     "name": "stdout",
     "output_type": "stream",
     "text": [
      "  4           0 LOAD_GLOBAL              0 (n)\n",
      "              2 LOAD_CONST               1 (1)\n",
      "              4 INPLACE_ADD\n",
      "              6 STORE_GLOBAL             0 (n)\n",
      "              8 LOAD_CONST               0 (None)\n",
      "             10 RETURN_VALUE\n"
     ]
    }
   ],
   "source": [
    "import dis\n",
    "dis.dis(f)"
   ]
  },
  {
   "cell_type": "markdown",
   "metadata": {},
   "source": [
    "这是因为`f`函数的字节码可能会被打断，为了保证线程安全，还是需要使用锁来保证线程安全。"
   ]
  },
  {
   "cell_type": "code",
   "execution_count": 76,
   "metadata": {},
   "outputs": [
    {
     "name": "stdout",
     "output_type": "stream",
     "text": [
      "100000\n"
     ]
    }
   ],
   "source": [
    "n=0\n",
    "import threading\n",
    "threads=[]\n",
    "lock=threading.Lock()\n",
    "\n",
    "def f():\n",
    "    global n\n",
    "    with lock:\n",
    "        n+=1\n",
    "\n",
    "# 如果是线性，那么结果理论上应该为100000，有时结果可能为99999\n",
    "def test():\n",
    "    for _ in range(100000):\n",
    "        threads.append(Thread(target=f))\n",
    "\n",
    "    for thread in threads:\n",
    "        thread.start()\n",
    "\n",
    "    for thread in threads:\n",
    "        thread.join()\n",
    "\n",
    "test()\n",
    "print(n)"
   ]
  },
  {
   "cell_type": "markdown",
   "metadata": {},
   "source": [
    "## 绕过GIL\n",
    "- 绕过CPython，使用JPython等实现。\n",
    "- 将关键性能代码使用高性能语言实现。\n",
    "- 使用用C语言实现的库，如numpy。"
   ]
  },
  {
   "cell_type": "markdown",
   "metadata": {},
   "source": [
    "## 问题\n",
    "- 为什么CPU密集型的应用，多线程的性能比单线程差？\n",
    "CPU密集型的应用中，多线程切换会消耗部分时间；相反，在IO密集型中，CPU消耗不大，通过执行其他的线程能有效提升CPU的利用率。\n",
    "- GIL是一个好的设计吗？\n",
    "Python3中改用计时器，循环执行线程，但是这样并没有解决GIL导致单一时间内只能执行一个线程。Python充分利用多核CPU，只能使用多进程，因为每个进程都有一个GIL，互不干扰。"
   ]
  }
 ],
 "metadata": {
  "kernelspec": {
   "display_name": "Python 3",
   "language": "python",
   "name": "python3"
  },
  "language_info": {
   "codemirror_mode": {
    "name": "ipython",
    "version": 3
   },
   "file_extension": ".py",
   "mimetype": "text/x-python",
   "name": "python",
   "nbconvert_exporter": "python",
   "pygments_lexer": "ipython3",
   "version": "3.7.2"
  }
 },
 "nbformat": 4,
 "nbformat_minor": 2
}
