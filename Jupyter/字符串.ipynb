{
 "cells": [
  {
   "cell_type": "markdown",
   "metadata": {},
   "source": [
    "# 字符串"
   ]
  },
  {
   "cell_type": "markdown",
   "metadata": {},
   "source": [
    "字符串是由独立字符组成的一个序列，通常包含在`'字符串内容'`、`\"字符串内容\"`、`\"\"\"字符串内容\"\"\"`或`'''字符串内容'''`。支持单引号和双引号字符串的目的是为了解决字符串内部存在单引号或双引号，导致配对出错：`\"I'm a boy!\"`。而三引号字符串主要用于多行字符串。"
   ]
  },
  {
   "cell_type": "markdown",
   "metadata": {},
   "source": [
    "字符串中存在一个特殊字符：转义符`\\`。转义符`\\`和其他字符组合成一类有特殊含义的字符，这类字符被称作为转移字符，如：\n",
    "|转移字符|含义|\n",
    "|-|-|\n",
    "|`\\\\`|字符`\\`|\n",
    "|`\\'`|字符`'`|\n",
    "|`\\n`|换行符|\n",
    "|`\\t`|横向制表符|"
   ]
  },
  {
   "cell_type": "code",
   "execution_count": 1,
   "metadata": {},
   "outputs": [
    {
     "name": "stdout",
     "output_type": "stream",
     "text": [
      "i write 'hello \n",
      " I am \t martin '\n"
     ]
    }
   ],
   "source": [
    "print('i write \\'hello \\n I am \\t martin \\'')"
   ]
  },
  {
   "cell_type": "markdown",
   "metadata": {},
   "source": [
    "## 常用操作\n",
    "字符串是一个不可变的序列，也支持索引访问、切片操作，但是不能原地修改字符串的内容。"
   ]
  },
  {
   "cell_type": "code",
   "execution_count": 3,
   "metadata": {},
   "outputs": [
    {
     "name": "stdout",
     "output_type": "stream",
     "text": [
      "visit the 0 :h\n",
      "visit the 0-5 :hello\n"
     ]
    }
   ],
   "source": [
    "info='hello world'\n",
    "print('visit the 0 :{}'.format(info[0]))\n",
    "print('visit the 0-5 :{}'.format(info[0:5]))"
   ]
  },
  {
   "cell_type": "code",
   "execution_count": 4,
   "metadata": {},
   "outputs": [
    {
     "ename": "TypeError",
     "evalue": "'str' object does not support item assignment",
     "output_type": "error",
     "traceback": [
      "\u001b[1;31m---------------------------------------------------------------------------\u001b[0m",
      "\u001b[1;31mTypeError\u001b[0m                                 Traceback (most recent call last)",
      "\u001b[1;32m<ipython-input-4-636f198226c3>\u001b[0m in \u001b[0;36m<module>\u001b[1;34m\u001b[0m\n\u001b[0;32m      1\u001b[0m \u001b[1;31m# 原地修改会报错\u001b[0m\u001b[1;33m\u001b[0m\u001b[1;33m\u001b[0m\u001b[1;33m\u001b[0m\u001b[0m\n\u001b[1;32m----> 2\u001b[1;33m \u001b[0minfo\u001b[0m\u001b[1;33m[\u001b[0m\u001b[1;36m0\u001b[0m\u001b[1;33m]\u001b[0m\u001b[1;33m=\u001b[0m\u001b[1;34m'H'\u001b[0m\u001b[1;33m\u001b[0m\u001b[1;33m\u001b[0m\u001b[0m\n\u001b[0m",
      "\u001b[1;31mTypeError\u001b[0m: 'str' object does not support item assignment"
     ]
    }
   ],
   "source": [
    "# 原地修改会报错\n",
    "info[0]='H'"
   ]
  },
  {
   "cell_type": "markdown",
   "metadata": {},
   "source": [
    "字符串常用操作有：\n",
    "- `isalpha()`:是否为字符。\n",
    "- `isdigit()`:是否为数字。\n",
    "- `lower()`:转换为小写。\n",
    "- `upper()`:转换为大写。\n",
    "- `title()`:转换为标题。\n",
    "- `lstrip(字符)`:移除左边指定字符，默认空格。\n",
    "- `strip(字符)`:移除两边指定字符，默认空格。\n",
    "- `rstrip(字符)`:移除右边指定字符，默认空格。\n",
    "- `split(字符)`:将字符串按字符进行切割。\n",
    "- `startwith(字符)`:字符串是否以字符开头。\n",
    "- `join(可迭代对象)`:将元素组合成字符串。"
   ]
  },
  {
   "cell_type": "code",
   "execution_count": 2,
   "metadata": {
    "ExecuteTime": {
     "end_time": "2019-09-19T12:51:48.274009Z",
     "start_time": "2019-09-19T12:51:48.268458Z"
    }
   },
   "outputs": [
    {
     "name": "stdout",
     "output_type": "stream",
     "text": [
      "a is alpha:True\n",
      "1 is alpha:True\n",
      "ABCD to lower:abcd\n",
      "abcd to upper:ABCD\n",
      "abCD to title:Abcd\n",
      "'-abcd--' lstrip('-'):abcd--\n",
      "'-abcd--' strip('-'):abcd\n",
      "'-abcd--' rstrip('-'):-abcd\n",
      "'a-b-c-d' split('-'):['a', 'b', 'c', 'd']\n",
      "Mr.martin is startwith Mr:True\n",
      "['a','b','c','d'] join(-):a-b-c-d\n"
     ]
    }
   ],
   "source": [
    "print(\"a is alpha:{}\".format('a'.isalpha()))\n",
    "print(\"1 is alpha:{}\".format('1'.isdigit()))\n",
    "print(\"ABCD to lower:{}\".format('ABCD'.lower()))\n",
    "print(\"abcd to upper:{}\".format('abcd'.upper()))\n",
    "print(\"abCD to title:{}\".format('abcd'.title()))\n",
    "print(\"'-abcd--' lstrip('-'):{}\".format('-abcd--'.lstrip('-')))\n",
    "print(\"'-abcd--' strip('-'):{}\".format('-abcd--'.strip('-')))\n",
    "print(\"'-abcd--' rstrip('-'):{}\".format('-abcd--'.rstrip('-')))\n",
    "print(\"'a-b-c-d' split('-'):{}\".format('a-b-c-d'.split('-')))\n",
    "print(\"Mr.martin is startwith Mr:{}\".format('Mr.martin'.startswith('Mr')))\n",
    "a=['a','b','c','d']\n",
    "print(\"['a','b','c','d'] join(-):{}\".format('-'.join(a)))"
   ]
  },
  {
   "cell_type": "markdown",
   "metadata": {},
   "source": [
    "## 字符串格式化\n",
    "Python中，字符串的格式化非常简单，只需要遵循如下格式即可：`\"{0},{1}\".format(内容)`。字符串中的`{}`表示占位符，表示这里将会有一个值，具体值由`format`提供，值与占位符一一对应。"
   ]
  },
  {
   "cell_type": "code",
   "execution_count": 3,
   "metadata": {
    "ExecuteTime": {
     "end_time": "2019-09-19T13:06:50.186297Z",
     "start_time": "2019-09-19T13:06:50.183323Z"
    }
   },
   "outputs": [
    {
     "name": "stdout",
     "output_type": "stream",
     "text": [
      "1,2\n"
     ]
    }
   ],
   "source": [
    "print(\"{},{}\".format(1,2))"
   ]
  }
 ],
 "metadata": {
  "kernelspec": {
   "display_name": "Python 3",
   "language": "python",
   "name": "python3"
  },
  "language_info": {
   "codemirror_mode": {
    "name": "ipython",
    "version": 3
   },
   "file_extension": ".py",
   "mimetype": "text/x-python",
   "name": "python",
   "nbconvert_exporter": "python",
   "pygments_lexer": "ipython3",
   "version": "3.7.3"
  },
  "toc": {
   "base_numbering": 1,
   "nav_menu": {},
   "number_sections": true,
   "sideBar": true,
   "skip_h1_title": false,
   "title_cell": "Table of Contents",
   "title_sidebar": "Contents",
   "toc_cell": false,
   "toc_position": {},
   "toc_section_display": true,
   "toc_window_display": false
  },
  "varInspector": {
   "cols": {
    "lenName": 16,
    "lenType": 16,
    "lenVar": 40
   },
   "kernels_config": {
    "python": {
     "delete_cmd_postfix": "",
     "delete_cmd_prefix": "del ",
     "library": "var_list.py",
     "varRefreshCmd": "print(var_dic_list())"
    },
    "r": {
     "delete_cmd_postfix": ") ",
     "delete_cmd_prefix": "rm(",
     "library": "var_list.r",
     "varRefreshCmd": "cat(var_dic_list()) "
    }
   },
   "types_to_exclude": [
    "module",
    "function",
    "builtin_function_or_method",
    "instance",
    "_Feature"
   ],
   "window_display": false
  }
 },
 "nbformat": 4,
 "nbformat_minor": 2
}
