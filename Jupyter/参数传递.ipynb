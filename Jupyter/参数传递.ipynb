{
 "cells": [
  {
   "cell_type": "markdown",
   "metadata": {},
   "source": [
    "# 引用与参数传递"
   ]
  },
  {
   "cell_type": "markdown",
   "metadata": {},
   "source": [
    "## 引用\n",
    "Python中使用赋值语句`a=1`的流程是：先在内存中存储`1`这个对象，然后将引用`a`指向`1`的存储位置。\n",
    "![a=1]()\n",
    "使用赋值语句`b=a`，引用`b`也会指向`1`的存储位置。\n",
    "![b=a]()"
   ]
  },
  {
   "cell_type": "code",
   "execution_count": 1,
   "metadata": {},
   "outputs": [
    {
     "data": {
      "text/plain": [
       "True"
      ]
     },
     "execution_count": 1,
     "metadata": {},
     "output_type": "execute_result"
    }
   ],
   "source": [
    "a=1\n",
    "b=a\n",
    "b is a"
   ]
  },
  {
   "cell_type": "markdown",
   "metadata": {},
   "source": [
    "如果引用指向的对象是不可修改的，修改操作会在内存中创建一个新的对象，将引用指向新的对象。"
   ]
  },
  {
   "cell_type": "code",
   "execution_count": 2,
   "metadata": {},
   "outputs": [
    {
     "name": "stdout",
     "output_type": "stream",
     "text": [
      "b is a:False,a:2,b:1\n"
     ]
    }
   ],
   "source": [
    "a=a+1\n",
    "print('b is a:{},a:{},b:{}'.format(b is a,a,b))"
   ]
  },
  {
   "cell_type": "markdown",
   "metadata": {},
   "source": [
    "如果引用指向的对象是可修改的，则会对原对象执行修改操作。"
   ]
  },
  {
   "cell_type": "code",
   "execution_count": 4,
   "metadata": {},
   "outputs": [
    {
     "name": "stdout",
     "output_type": "stream",
     "text": [
      "b is a:True,a:[1, 2, 3, 4, 5],b:[1, 2, 3, 4, 5]\n"
     ]
    }
   ],
   "source": [
    "a=[1,2,3,4]\n",
    "b=a\n",
    "b.append(5)\n",
    "print('b is a:{},a:{},b:{}'.format(b is a,a,b))"
   ]
  },
  {
   "cell_type": "code",
   "execution_count": 5,
   "metadata": {},
   "outputs": [
    {
     "name": "stdout",
     "output_type": "stream",
     "text": [
      "a id:146087688,b id:146087688\n",
      "b is a:True,a:[1, 2, 3, 4, 6],b:[1, 2, 3, 4, 6]\n",
      "a id:146087688,b id:146087688\n"
     ]
    }
   ],
   "source": [
    "a=[1,2,3,4]\n",
    "b=a\n",
    "print('a id:{},b id:{}'.format(id(a),id(b)))\n",
    "a+=[6]# +=操作等价于append\n",
    "print('b is a:{},a:{},b:{}'.format(b is a,a,b))\n",
    "print('a id:{},b id:{}'.format(id(a),id(b)))"
   ]
  },
  {
   "cell_type": "markdown",
   "metadata": {},
   "source": [
    "## 参数传递\n",
    "Python中参数传递只是两个引用指向同一个对象，因此对参数的修改，是否影响另一个引用只取决于该对象是否可修改。"
   ]
  },
  {
   "cell_type": "markdown",
   "metadata": {},
   "source": [
    "- 指向不可修改对象"
   ]
  },
  {
   "cell_type": "code",
   "execution_count": 8,
   "metadata": {},
   "outputs": [
    {
     "name": "stdout",
     "output_type": "stream",
     "text": [
      "before modify：a value:1 id a:8790865273680,b value:1 id b:8790865273680\n",
      "after modify：a value:1 id a:8790865273680,b value:2 id b:8790865273712\n"
     ]
    }
   ],
   "source": [
    "a=1\n",
    "def func_1(b):\n",
    "    print('before modify：a value:{} id a:{},b value:{} id b:{}'.format(a,id(a),b,id(b)))\n",
    "    b=2\n",
    "    print('after modify：a value:{} id a:{},b value:{} id b:{}'.format(a,id(a),b,id(b)))\n",
    "func_1(a)"
   ]
  },
  {
   "cell_type": "markdown",
   "metadata": {},
   "source": [
    "- 指向可修改对象"
   ]
  },
  {
   "cell_type": "code",
   "execution_count": 10,
   "metadata": {},
   "outputs": [
    {
     "name": "stdout",
     "output_type": "stream",
     "text": [
      "before modify：a value:[1] id a:202658120,b value:[1] id b:202658120\n",
      "after modify：a value:[1, 2] id a:202658120,b value:[1, 2] id b:202658120\n",
      "after modify：a value:[1, 2] id a:202658120,b value:2 id b:8790865273712\n"
     ]
    }
   ],
   "source": [
    "a=[1]\n",
    "def func_1(b):\n",
    "    print('before modify：a value:{} id a:{},b value:{} id b:{}'.format(a,id(a),b,id(b)))\n",
    "    b.append(2)\n",
    "    print('after modify：a value:{} id a:{},b value:{} id b:{}'.format(a,id(a),b,id(b)))\n",
    "    b=2\n",
    "    print('after modify：a value:{} id a:{},b value:{} id b:{}'.format(a,id(a),b,id(b)))\n",
    "func_1(a)"
   ]
  }
 ],
 "metadata": {
  "kernelspec": {
   "display_name": "Python 3",
   "language": "python",
   "name": "python3"
  },
  "language_info": {
   "codemirror_mode": {
    "name": "ipython",
    "version": 3
   },
   "file_extension": ".py",
   "mimetype": "text/x-python",
   "name": "python",
   "nbconvert_exporter": "python",
   "pygments_lexer": "ipython3",
   "version": "3.7.2"
  }
 },
 "nbformat": 4,
 "nbformat_minor": 2
}
