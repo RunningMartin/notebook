{
 "cells": [
  {
   "cell_type": "markdown",
   "metadata": {},
   "source": [
    "# 装饰器"
   ]
  },
  {
   "cell_type": "markdown",
   "metadata": {},
   "source": [
    "## 简单的装饰器"
   ]
  },
  {
   "cell_type": "markdown",
   "metadata": {},
   "source": [
    "装饰器是在闭包的基础上扩展出来的，能在不修改源代码的实现的前提下，为函数添加新的功能。"
   ]
  },
  {
   "cell_type": "code",
   "execution_count": 2,
   "metadata": {},
   "outputs": [
    {
     "name": "stdout",
     "output_type": "stream",
     "text": [
      "hello world\n",
      "use decorator\n",
      "this is wrapper of decoreator\n",
      "hello world\n"
     ]
    }
   ],
   "source": [
    "def my_decorator(func):\n",
    "    def wrapper():\n",
    "        print('this is wrapper of decoreator')\n",
    "        func()\n",
    "    return wrapper\n",
    "\n",
    "def greet():\n",
    "    print('hello world')\n",
    "\n",
    "greet()\n",
    "print('use decorator')\n",
    "greet=my_decorator(greet)\n",
    "greet()"
   ]
  },
  {
   "cell_type": "markdown",
   "metadata": {},
   "source": [
    "装饰器还有更简单的用法，在面对对象一节中，接触到的`classmethod`和`staticmethod`都是装饰器。"
   ]
  },
  {
   "cell_type": "code",
   "execution_count": 4,
   "metadata": {},
   "outputs": [
    {
     "name": "stdout",
     "output_type": "stream",
     "text": [
      "this is wrapper of decoreator\n",
      "hello world\n"
     ]
    }
   ],
   "source": [
    "@my_decorator\n",
    "def greet():\n",
    "    print('hello world')\n",
    "\n",
    "greet()"
   ]
  },
  {
   "cell_type": "markdown",
   "metadata": {},
   "source": [
    "从上面的实现可以看出，装饰器`my_decorator`在函数`greet`的基础上，添加了一条`print`语句。`greet`函数名也指向了新的函数对象`wrapper`。"
   ]
  },
  {
   "cell_type": "markdown",
   "metadata": {},
   "source": [
    "## 装饰带参数的函数"
   ]
  },
  {
   "cell_type": "markdown",
   "metadata": {},
   "source": [
    "上面的装饰器包装后的`greet`函数名指向的是`wrapper`函数。`wrapper`函数不能接受任何参数，如果`greet`原来指向的函数对象需要接受参数如何处理呢？"
   ]
  },
  {
   "cell_type": "code",
   "execution_count": 5,
   "metadata": {},
   "outputs": [
    {
     "name": "stdout",
     "output_type": "stream",
     "text": [
      "this is wrapper of decoreator\n",
      "hello martin\n"
     ]
    }
   ],
   "source": [
    "def my_decorator(func):\n",
    "    def wrapper(*args,**kwargs):# args接受位置参数，kwargs接受关键字参数\n",
    "        # 位置参数 a('a','b',c='c',d='d') 'a','b'是位置参数\n",
    "        # c='c',d='d'为关键字参数，key=value结构\n",
    "        print('this is wrapper of decoreator')\n",
    "        func(*args,**kwargs)\n",
    "    return wrapper\n",
    "\n",
    "@my_decorator\n",
    "def greet(name):\n",
    "    print('hello {}'.format(name))\n",
    "\n",
    "greet('martin')"
   ]
  },
  {
   "cell_type": "markdown",
   "metadata": {},
   "source": [
    "## 带自定义参数的装饰器"
   ]
  },
  {
   "cell_type": "markdown",
   "metadata": {},
   "source": [
    "装饰器自身也能接受参数。"
   ]
  },
  {
   "cell_type": "code",
   "execution_count": 6,
   "metadata": {},
   "outputs": [
    {
     "name": "stdout",
     "output_type": "stream",
     "text": [
      "this is wrapper of decoreator\n",
      "hello martin\n",
      "hello martin\n",
      "hello martin\n",
      "hello martin\n"
     ]
    }
   ],
   "source": [
    "# 该装饰器将重复执行装饰对象\n",
    "def repeat(num):\n",
    "    def my_decorator(func):\n",
    "        def wrapper(*args,**kwargs):\n",
    "            print('this is wrapper of decoreator')\n",
    "            for i in range(num):\n",
    "                func(*args,**kwargs)\n",
    "        return wrapper\n",
    "    return my_decorator\n",
    "\n",
    "@repeat(4)\n",
    "def greet(name):\n",
    "    print('hello {}'.format(name))\n",
    "\n",
    "greet('martin')"
   ]
  },
  {
   "cell_type": "markdown",
   "metadata": {},
   "source": [
    "## 如何保留元信息"
   ]
  },
  {
   "cell_type": "markdown",
   "metadata": {},
   "source": [
    "使用上面的装饰器后，`greet`的元信息已经被改变了。"
   ]
  },
  {
   "cell_type": "code",
   "execution_count": 7,
   "metadata": {},
   "outputs": [
    {
     "data": {
      "text/plain": [
       "'wrapper'"
      ]
     },
     "execution_count": 7,
     "metadata": {},
     "output_type": "execute_result"
    }
   ],
   "source": [
    "greet.__name__"
   ]
  },
  {
   "cell_type": "markdown",
   "metadata": {},
   "source": [
    "如果要想保留元信息，需要使用内置的装饰器`functools.wraps`，将原函数的元信息拷贝到新函数上。"
   ]
  },
  {
   "cell_type": "code",
   "execution_count": 9,
   "metadata": {},
   "outputs": [
    {
     "data": {
      "text/plain": [
       "'greet'"
      ]
     },
     "execution_count": 9,
     "metadata": {},
     "output_type": "execute_result"
    }
   ],
   "source": [
    "import functools\n",
    "def repeat(num):\n",
    "    def my_decorator(func):\n",
    "        @functools.wraps(func)# wraps装饰器将处理该函数的元信息\n",
    "        def wrapper(*args,**kwargs):\n",
    "            print('this is wrapper of decoreator')\n",
    "            for i in range(num):\n",
    "                func(*args,**kwargs)\n",
    "        return wrapper\n",
    "    return my_decorator\n",
    "\n",
    "@repeat(4)\n",
    "def greet(name):\n",
    "    print('hello {}'.format(name))\n",
    "\n",
    "greet.__name__"
   ]
  },
  {
   "cell_type": "code",
   "execution_count": null,
   "metadata": {},
   "outputs": [],
   "source": []
  }
 ],
 "metadata": {
  "kernelspec": {
   "display_name": "Python 3",
   "language": "python",
   "name": "python3"
  },
  "language_info": {
   "codemirror_mode": {
    "name": "ipython",
    "version": 3
   },
   "file_extension": ".py",
   "mimetype": "text/x-python",
   "name": "python",
   "nbconvert_exporter": "python",
   "pygments_lexer": "ipython3",
   "version": "3.7.2"
  }
 },
 "nbformat": 4,
 "nbformat_minor": 2
}
