{
 "cells": [
  {
   "cell_type": "markdown",
   "metadata": {},
   "source": [
    "# 条件与循环"
   ]
  },
  {
   "cell_type": "markdown",
   "metadata": {},
   "source": [
    "## 布尔量\n",
    "Python中表达真假的布尔量是：False(假)、True(真)。"
   ]
  },
  {
   "cell_type": "markdown",
   "metadata": {},
   "source": [
    "## 条件语句\n",
    "Python中的条件语句用于真假逻辑判断，其格式为："
   ]
  },
  {
   "cell_type": "markdown",
   "metadata": {},
   "source": [
    "```python\n",
    "if 条件1:\n",
    "    操作1 # 如果条件1满足，执行操作1\n",
    "elif 条件2: # 条件1不满足，判断是否满足条件2，满足，执行操作2\n",
    "    操作2 \n",
    "else:     # 条件2也不满足，执行操作3\n",
    "    操作3\n",
    "```"
   ]
  },
  {
   "cell_type": "markdown",
   "metadata": {},
   "source": [
    "`elif`和`else`语句不是必须的，属于可选项。"
   ]
  },
  {
   "cell_type": "markdown",
   "metadata": {},
   "source": [
    "例子：\n",
    "- 如果分数>=90分，输出优秀；\n",
    "- 分数<90，>=70，输出良；\n",
    "- 分数<70，>=60，输出及格；\n",
    "- 分数<60，输出不及格。"
   ]
  },
  {
   "cell_type": "code",
   "execution_count": 7,
   "metadata": {},
   "outputs": [
    {
     "name": "stdout",
     "output_type": "stream",
     "text": [
      "良好\n"
     ]
    }
   ],
   "source": [
    "score=80\n",
    "if score>=90:\n",
    "    print(\"优秀\")\n",
    "elif score>=70:\n",
    "    print(\"良好\")\n",
    "elif score>=60:\n",
    "    print(\"及格\")\n",
    "else:\n",
    "    print(\"不及格\")"
   ]
  },
  {
   "cell_type": "markdown",
   "metadata": {},
   "source": [
    "Python中存在几个隐性的假值，因此条件中最好明确写出你的条件。隐性假值有：空序列(空列表、空元组、空集合、空字典)、空字符串`''`、空对象`None`，数字`0`。"
   ]
  },
  {
   "cell_type": "code",
   "execution_count": 12,
   "metadata": {},
   "outputs": [
    {
     "name": "stdout",
     "output_type": "stream",
     "text": [
      "False\n"
     ]
    }
   ],
   "source": [
    "if 0:\n",
    "    print(True)\n",
    "else:\n",
    "    print(False)"
   ]
  },
  {
   "cell_type": "markdown",
   "metadata": {},
   "source": [
    "## 循环语句\n",
    "循环语句分为两种：\n",
    "- `for`：通常用于遍历可迭代对象。可迭代对象是类似列表、元组、字典这些由多个元素组成的对象。"
   ]
  },
  {
   "cell_type": "code",
   "execution_count": 14,
   "metadata": {},
   "outputs": [
    {
     "name": "stdout",
     "output_type": "stream",
     "text": [
      "0\n",
      "1\n",
      "2\n",
      "3\n",
      "4\n",
      "5\n",
      "6\n"
     ]
    }
   ],
   "source": [
    "my_list=[0,1,2,3,4,5,6]\n",
    "for element in my_list:\n",
    "    print(element)"
   ]
  },
  {
   "cell_type": "markdown",
   "metadata": {},
   "source": [
    "如果想用下标访问列表，可以通过range(start,end) 生成start到end-1之间的整数。"
   ]
  },
  {
   "cell_type": "code",
   "execution_count": 15,
   "metadata": {},
   "outputs": [
    {
     "name": "stdout",
     "output_type": "stream",
     "text": [
      "0\n",
      "1\n",
      "2\n",
      "3\n",
      "4\n",
      "5\n",
      "6\n"
     ]
    }
   ],
   "source": [
    "for i in range(len(my_list)):\n",
    "    print(my_list[i])"
   ]
  },
  {
   "cell_type": "markdown",
   "metadata": {},
   "source": [
    "- `while`：通常用于执行一些重复操作。"
   ]
  },
  {
   "cell_type": "code",
   "execution_count": 18,
   "metadata": {},
   "outputs": [
    {
     "name": "stdout",
     "output_type": "stream",
     "text": [
      "0 i love you\n",
      "1 i love you\n",
      "2 i love you\n",
      "3 i love you\n",
      "4 i love you\n"
     ]
    }
   ],
   "source": [
    "# 打印5次 I love you。\n",
    "i=0\n",
    "while i<5:\n",
    "    print('{} i love you'.format(i))\n",
    "    i=i+1"
   ]
  },
  {
   "cell_type": "markdown",
   "metadata": {},
   "source": [
    "循环语句中通常还会搭配`continue`和`break`语句一起使用：\n",
    "- `continue`:退出本次循环，执行下一次\n",
    "- `break`:退出循环"
   ]
  },
  {
   "cell_type": "code",
   "execution_count": 23,
   "metadata": {},
   "outputs": [
    {
     "name": "stdout",
     "output_type": "stream",
     "text": [
      "4\n",
      "4\n",
      "4\n",
      "4\n"
     ]
    }
   ],
   "source": [
    "# 如果列表中存在元素4，则打印；否则不打印\n",
    "my_list=[0,1,2,3,4,5,6,4,3,2,4,1,4]\n",
    "for i in my_list:\n",
    "    if i!=4:\n",
    "        continue # 如果改为break，你会发现不会有打印\n",
    "    print(i)"
   ]
  },
  {
   "cell_type": "markdown",
   "metadata": {},
   "source": [
    "## 生成式\n",
    "如果想要得到一个列表，里面包含10以内能被2整除的数，我们采用循环语句可以这样写："
   ]
  },
  {
   "cell_type": "code",
   "execution_count": 24,
   "metadata": {},
   "outputs": [
    {
     "name": "stdout",
     "output_type": "stream",
     "text": [
      "[0, 2, 4, 6, 8]\n"
     ]
    }
   ],
   "source": [
    "my_list=[]\n",
    "for i in range(10):\n",
    "    if i%2==0:# % 是求余数\n",
    "        my_list.append(i)\n",
    "print(my_list)"
   ]
  },
  {
   "cell_type": "markdown",
   "metadata": {},
   "source": [
    "但是我们还有一种更简单的写法，叫列表生成式，其格式为：`[表达式 for item in iterable if 条件]`。"
   ]
  },
  {
   "cell_type": "code",
   "execution_count": 26,
   "metadata": {},
   "outputs": [
    {
     "name": "stdout",
     "output_type": "stream",
     "text": [
      "[0, 2, 4, 6, 8]\n"
     ]
    }
   ],
   "source": [
    "my_list=[i for i in range(10) if i%2==0] # 对比上面的循环表达式\n",
    "print(my_list)"
   ]
  },
  {
   "cell_type": "markdown",
   "metadata": {},
   "source": [
    "这种写法适用于列表、字典、集合，只需进行相应的适配即可。"
   ]
  },
  {
   "cell_type": "code",
   "execution_count": 28,
   "metadata": {},
   "outputs": [
    {
     "name": "stdout",
     "output_type": "stream",
     "text": [
      "[0, 2, 4, 6, 8]\n",
      "{0: 0, 2: 2, 4: 4, 6: 6, 8: 8}\n",
      "{0, 2, 4, 6, 8}\n"
     ]
    }
   ],
   "source": [
    "print([i for i in range(10) if i%2==0]) # 列表\n",
    "print({i:i for i in range(10) if i%2==0})# 字典\n",
    "print({i for i in range(10) if i%2==0})# 集合"
   ]
  },
  {
   "cell_type": "markdown",
   "metadata": {},
   "source": [
    "现在面对一个再复杂点的场景：\n",
    "- 场景：一个包含多个整数的列表，将该列表按规则(如果能被2整除，则为True，否则为False)生成一个新的列表。\n",
    "- 实例：`[1,2,3,4,5,6]`将被转换为`[False,True,False,True,False,True]`"
   ]
  },
  {
   "cell_type": "markdown",
   "metadata": {},
   "source": [
    "采用循环的方法："
   ]
  },
  {
   "cell_type": "code",
   "execution_count": 30,
   "metadata": {},
   "outputs": [
    {
     "name": "stdout",
     "output_type": "stream",
     "text": [
      "[False, True, False, True, False, True]\n"
     ]
    }
   ],
   "source": [
    "my_list=[1,2,3,4,5,6]\n",
    "new_list=[]\n",
    "for i in my_list:\n",
    "    if i %2==0:\n",
    "        new_list.append(True)\n",
    "    else:\n",
    "        new_list.append(False)\n",
    "print(new_list)"
   ]
  },
  {
   "cell_type": "markdown",
   "metadata": {},
   "source": [
    "更方便的生成式写法：`[表达式1 if 条件 else 表达式2 for item in iterable ]`"
   ]
  },
  {
   "cell_type": "code",
   "execution_count": 31,
   "metadata": {},
   "outputs": [
    {
     "name": "stdout",
     "output_type": "stream",
     "text": [
      "[False, True, False, True, False, True]\n"
     ]
    }
   ],
   "source": [
    "my_list=[1,2,3,4,5,6]\n",
    "print([True if i %2==0 else False for i in my_list])"
   ]
  }
 ],
 "metadata": {
  "kernelspec": {
   "display_name": "Python 3",
   "language": "python",
   "name": "python3"
  },
  "language_info": {
   "codemirror_mode": {
    "name": "ipython",
    "version": 3
   },
   "file_extension": ".py",
   "mimetype": "text/x-python",
   "name": "python",
   "nbconvert_exporter": "python",
   "pygments_lexer": "ipython3",
   "version": "3.7.2"
  }
 },
 "nbformat": 4,
 "nbformat_minor": 2
}
