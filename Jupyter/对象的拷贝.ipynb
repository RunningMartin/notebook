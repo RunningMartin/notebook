{
 "cells": [
  {
   "cell_type": "markdown",
   "metadata": {},
   "source": [
    "# 对象的比较与拷贝"
   ]
  },
  {
   "cell_type": "markdown",
   "metadata": {},
   "source": [
    "## 对象的比较\n",
    "这一节将学习两个变量比较中，`is`和`==`的区别。"
   ]
  },
  {
   "cell_type": "markdown",
   "metadata": {},
   "source": [
    "- `a==b`：判断`a`、`b`两个变量指向的对象的值是否相同,通过调用`a.__eq__(b)`获得结果。"
   ]
  },
  {
   "cell_type": "code",
   "execution_count": 3,
   "metadata": {},
   "outputs": [
    {
     "data": {
      "text/plain": [
       "False"
      ]
     },
     "execution_count": 3,
     "metadata": {},
     "output_type": "execute_result"
    }
   ],
   "source": [
    "object_a=1\n",
    "object_b=2\n",
    "object_a==object_b"
   ]
  },
  {
   "cell_type": "code",
   "execution_count": 5,
   "metadata": {},
   "outputs": [
    {
     "data": {
      "text/plain": [
       "False"
      ]
     },
     "execution_count": 5,
     "metadata": {},
     "output_type": "execute_result"
    }
   ],
   "source": [
    "object_a.__eq__(object_b)"
   ]
  },
  {
   "cell_type": "code",
   "execution_count": 6,
   "metadata": {},
   "outputs": [
    {
     "data": {
      "text/plain": [
       "True"
      ]
     },
     "execution_count": 6,
     "metadata": {},
     "output_type": "execute_result"
    }
   ],
   "source": [
    "object_a=1\n",
    "object_b=1\n",
    "object_a==object_b"
   ]
  },
  {
   "cell_type": "code",
   "execution_count": 7,
   "metadata": {},
   "outputs": [
    {
     "data": {
      "text/plain": [
       "True"
      ]
     },
     "execution_count": 7,
     "metadata": {},
     "output_type": "execute_result"
    }
   ],
   "source": [
    "object_a.__eq__(object_b)"
   ]
  },
  {
   "cell_type": "markdown",
   "metadata": {},
   "source": [
    "- `a is b`：判断`a`、`b`两个变量是否指向同一个对象,对象的内存信息可以通过`id()`来获得。"
   ]
  },
  {
   "cell_type": "code",
   "execution_count": 8,
   "metadata": {},
   "outputs": [
    {
     "data": {
      "text/plain": [
       "False"
      ]
     },
     "execution_count": 8,
     "metadata": {},
     "output_type": "execute_result"
    }
   ],
   "source": [
    "object_a=1\n",
    "object_b=2\n",
    "object_a is object_b"
   ]
  },
  {
   "cell_type": "code",
   "execution_count": 9,
   "metadata": {},
   "outputs": [
    {
     "name": "stdout",
     "output_type": "stream",
     "text": [
      "object_a id is 8790865273680,object_b id is 8790865273712\n"
     ]
    }
   ],
   "source": [
    "print(\"object_a id is {},object_b id is {}\".format(id(object_a),id(object_b)))"
   ]
  },
  {
   "cell_type": "code",
   "execution_count": 11,
   "metadata": {},
   "outputs": [
    {
     "data": {
      "text/plain": [
       "True"
      ]
     },
     "execution_count": 11,
     "metadata": {},
     "output_type": "execute_result"
    }
   ],
   "source": [
    "object_a=1\n",
    "object_b=1\n",
    "object_a is object_b"
   ]
  },
  {
   "cell_type": "code",
   "execution_count": 12,
   "metadata": {},
   "outputs": [
    {
     "name": "stdout",
     "output_type": "stream",
     "text": [
      "object_a id is 8790865273680,object_b id is 8790865273680\n"
     ]
    }
   ],
   "source": [
    "print(\"object_a id is {},object_b id is {}\".format(id(object_a),id(object_b)))"
   ]
  },
  {
   "cell_type": "markdown",
   "metadata": {},
   "source": [
    "对比数字需要注意一点：Python将-5到256之间的整数进行了缓存，如果数字在这一范围内，该值内存中只会有一份，因此对比数字最好用`==`。"
   ]
  },
  {
   "cell_type": "code",
   "execution_count": 13,
   "metadata": {},
   "outputs": [
    {
     "data": {
      "text/plain": [
       "False"
      ]
     },
     "execution_count": 13,
     "metadata": {},
     "output_type": "execute_result"
    }
   ],
   "source": [
    "object_a=257\n",
    "object_b=257\n",
    "object_a is object_b"
   ]
  },
  {
   "cell_type": "code",
   "execution_count": 14,
   "metadata": {},
   "outputs": [
    {
     "name": "stdout",
     "output_type": "stream",
     "text": [
      "object_a id is 204394576,object_b id is 204394736\n"
     ]
    }
   ],
   "source": [
    "print(\"object_a id is {},object_b id is {}\".format(id(object_a),id(object_b)))"
   ]
  },
  {
   "cell_type": "markdown",
   "metadata": {},
   "source": [
    "## 对象的拷贝\n",
    "Python中存在两种拷贝：浅拷贝和深拷贝，先来看一个例子。"
   ]
  },
  {
   "cell_type": "code",
   "execution_count": 20,
   "metadata": {},
   "outputs": [
    {
     "name": "stdout",
     "output_type": "stream",
     "text": [
      "the b is a: False\n",
      "the list a [[1, 0], [2], [3]] \r\n",
      " the list b [[1, 0], [2], [3]]\n"
     ]
    }
   ],
   "source": [
    "a=[[1],[2],[3]]\n",
    "b=a.copy()# b是a的拷贝\n",
    "b[0].append(0)# 往列表b的第一个列表中添加一个元素0\n",
    "print(\"the b is a: {}\".format(b is a))\n",
    "print(\"the list a {} \\r\\n the list b {}\".format(a,b))"
   ]
  },
  {
   "cell_type": "markdown",
   "metadata": {},
   "source": [
    "观察结果就会发现：修改列表a的副本列表b，修改后的结果会影响到列表a。这不是我们想要的结果，为什么会这样呢？"
   ]
  },
  {
   "cell_type": "markdown",
   "metadata": {},
   "source": [
    "这是因为调用`copy`方法，执行的是浅复制操作。浅复制只是在内存中的开辟一个新的空间，存储原对象中的子对象，如果子对象是可以修改，就会存在上面的副作用，常见的浅复制操作有：对象.copy()、copy模块的copy()方法和可变序列的切片操作。"
   ]
  },
  {
   "cell_type": "code",
   "execution_count": 24,
   "metadata": {},
   "outputs": [
    {
     "name": "stdout",
     "output_type": "stream",
     "text": [
      "the b is a: False\n",
      "the list a [[1, 0], [2], [3]] \r\n",
      " the list b [[1, 0], [2], [3]]\n"
     ]
    }
   ],
   "source": [
    "a=[[1],[2],[3]]\n",
    "b=a[:]\n",
    "b[0].append(0)# 往列表b的第一个列表中添加一个元素0\n",
    "print(\"the b is a: {}\".format(b is a))\n",
    "print(\"the list a {} \\r\\n the list b {}\".format(a,b))"
   ]
  },
  {
   "cell_type": "markdown",
   "metadata": {},
   "source": [
    "那我们如何才能实现修改副本而不影响原来的结果呢？可以使用copy模块中的deepcopy方法。"
   ]
  },
  {
   "cell_type": "code",
   "execution_count": 23,
   "metadata": {},
   "outputs": [
    {
     "name": "stdout",
     "output_type": "stream",
     "text": [
      "the b is a: False\n",
      "the list a [[1], [2], [3]] \r\n",
      " the list b [[1, 0], [2], [3]]\n"
     ]
    }
   ],
   "source": [
    "import copy\n",
    "a=[[1],[2],[3]]\n",
    "b=copy.deepcopy(a)\n",
    "b[0].append(0)# 往列表b的第一个列表中添加一个元素0\n",
    "print(\"the b is a: {}\".format(b is a))\n",
    "print(\"the list a {} \\r\\n the list b {}\".format(a,b))"
   ]
  },
  {
   "cell_type": "markdown",
   "metadata": {},
   "source": [
    "深拷贝会将原对象中所有元素，以递归的方式，创建新的子对象到新对象中，因此新对象和原对象没有任何关系。"
   ]
  },
  {
   "cell_type": "code",
   "execution_count": 25,
   "metadata": {},
   "outputs": [
    {
     "ename": "RecursionError",
     "evalue": "maximum recursion depth exceeded in comparison",
     "output_type": "error",
     "traceback": [
      "\u001b[1;31m---------------------------------------------------------------------------\u001b[0m",
      "\u001b[1;31mRecursionError\u001b[0m                            Traceback (most recent call last)",
      "\u001b[1;32m<ipython-input-25-808245004296>\u001b[0m in \u001b[0;36m<module>\u001b[1;34m\u001b[0m\n\u001b[0;32m      3\u001b[0m \u001b[1;32mimport\u001b[0m \u001b[0mcopy\u001b[0m\u001b[1;33m\u001b[0m\u001b[1;33m\u001b[0m\u001b[0m\n\u001b[0;32m      4\u001b[0m \u001b[0my\u001b[0m\u001b[1;33m=\u001b[0m\u001b[0mcopy\u001b[0m\u001b[1;33m.\u001b[0m\u001b[0mdeepcopy\u001b[0m\u001b[1;33m(\u001b[0m\u001b[0mx\u001b[0m\u001b[1;33m)\u001b[0m\u001b[1;33m\u001b[0m\u001b[1;33m\u001b[0m\u001b[0m\n\u001b[1;32m----> 5\u001b[1;33m \u001b[0mx\u001b[0m\u001b[1;33m==\u001b[0m\u001b[0my\u001b[0m\u001b[1;33m\u001b[0m\u001b[1;33m\u001b[0m\u001b[0m\n\u001b[0m",
      "\u001b[1;31mRecursionError\u001b[0m: maximum recursion depth exceeded in comparison"
     ]
    }
   ],
   "source": [
    "x=[1]\n",
    "x.append(x)\n",
    "import copy\n",
    "y=copy.deepcopy(x)\n",
    "x==y"
   ]
  }
 ],
 "metadata": {
  "kernelspec": {
   "display_name": "Python 3",
   "language": "python",
   "name": "python3"
  },
  "language_info": {
   "codemirror_mode": {
    "name": "ipython",
    "version": 3
   },
   "file_extension": ".py",
   "mimetype": "text/x-python",
   "name": "python",
   "nbconvert_exporter": "python",
   "pygments_lexer": "ipython3",
   "version": "3.7.2"
  }
 },
 "nbformat": 4,
 "nbformat_minor": 2
}
