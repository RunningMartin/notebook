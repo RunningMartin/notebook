{
 "cells": [
  {
   "cell_type": "markdown",
   "metadata": {},
   "source": [
    "# 元类"
   ]
  },
  {
   "cell_type": "markdown",
   "metadata": {},
   "source": [
    "## metaclass的超越变形特性"
   ]
  },
  {
   "cell_type": "markdown",
   "metadata": {},
   "source": [
    "YAML是一个用于序列化和反序列化的工具，其`YAMLObject`的一个超越变形能力是它的子类支持序列化和反序列化操作。"
   ]
  },
  {
   "cell_type": "code",
   "execution_count": 42,
   "metadata": {},
   "outputs": [],
   "source": [
    "import yaml\n",
    "class Monster(yaml.YAMLObject):\n",
    "    yaml_loader = yaml.SafeLoader\n",
    "    yaml_tag=u'!Monster'\n",
    "    def __init__(self,name,hp,ac,attacks):\n",
    "        self.name=name\n",
    "        self.hp=hp\n",
    "        self.ac=ac\n",
    "        self.attacks=attacks\n",
    "    def __repr__(self):\n",
    "        return \"{}(name={},hp={},ac={},attacks={})\".format(\n",
    "            self.__class__.__name__,self.name,self.hp,self.ac,self.attacks)"
   ]
  },
  {
   "cell_type": "code",
   "execution_count": 43,
   "metadata": {},
   "outputs": [
    {
     "name": "stdout",
     "output_type": "stream",
     "text": [
      "!Monster\n",
      "ac: 9\n",
      "attacks:\n",
      "- BITE\n",
      "- HURT\n",
      "hp:\n",
      "- 3\n",
      "- 6\n",
      "name: martin\n",
      "\n"
     ]
    }
   ],
   "source": [
    "print(yaml.dump(Monster('martin',[3,6],ac=9,attacks=['BITE','HURT'])))"
   ]
  },
  {
   "cell_type": "code",
   "execution_count": 45,
   "metadata": {},
   "outputs": [],
   "source": [
    "info='''\n",
    "!Monster\n",
    "ac: 9\n",
    "attacks:\n",
    "- BITE\n",
    "- HURT\n",
    "hp:\n",
    "- 3\n",
    "- 6\n",
    "name: martin\n",
    "'''\n",
    "obj=yaml.safe_load(info)"
   ]
  },
  {
   "cell_type": "code",
   "execution_count": 46,
   "metadata": {},
   "outputs": [
    {
     "data": {
      "text/plain": [
       "9"
      ]
     },
     "execution_count": 46,
     "metadata": {},
     "output_type": "execute_result"
    }
   ],
   "source": [
    "obj.ac"
   ]
  },
  {
   "cell_type": "markdown",
   "metadata": {},
   "source": [
    "使用yaml.load、dump能在不知道任何类型的前提下将一个YAMLObject的子类序列化和反序列化，这让超动态配置编程(通过配置文件控制加载的类)成了可能。"
   ]
  },
  {
   "cell_type": "markdown",
   "metadata": {},
   "source": [
    "## YAML的序列化和反序列化如何实现的？"
   ]
  },
  {
   "cell_type": "markdown",
   "metadata": {},
   "source": [
    "实现这个功能需要做到两步：\n",
    "- 实现注册函数，让YAML知道tag对应的Python类。\n",
    "- 定义类时手动调用注册函数。\n",
    "实际上YAML是如何实现的呢？\n",
    "\n",
    "```python\n",
    "# YAMLObject通过metaclass来注入注册函数调用，避免手动调用\n",
    "class YAMLObject(metaclass=YAMLObjectMetaclass):\n",
    "    \"\"\"\n",
    "    An object that can dump itself to a YAML stream\n",
    "    and load itself from a YAML stream.\n",
    "    \"\"\"\n",
    "    ...\n",
    "\n",
    "class YAMLObjectMetaclass(type):\n",
    "    \"\"\"\n",
    "    The metaclass for YAMLObject.\n",
    "    \"\"\"\n",
    "    def __init__(cls, name, bases, kwds):\n",
    "        super(YAMLObjectMetaclass, cls).__init__(name, bases, kwds)\n",
    "        if 'yaml_tag' in kwds and kwds['yaml_tag'] is not None:\n",
    "            # 注册函数\n",
    "            cls.yaml_loader.add_constructor(cls.yaml_tag, cls.from_yaml)\n",
    "            cls.yaml_dumper.add_representer(cls, cls.to_yaml) \n",
    "```"
   ]
  },
  {
   "cell_type": "markdown",
   "metadata": {},
   "source": [
    "## metaclass的工作原理？"
   ]
  },
  {
   "cell_type": "markdown",
   "metadata": {},
   "source": [
    "### Python中自定义类都是type的实例"
   ]
  },
  {
   "cell_type": "code",
   "execution_count": 47,
   "metadata": {},
   "outputs": [
    {
     "data": {
      "text/plain": [
       "type"
      ]
     },
     "execution_count": 47,
     "metadata": {},
     "output_type": "execute_result"
    }
   ],
   "source": [
    "class MyClass:\n",
    "    pass\n",
    "type(MyClass)"
   ]
  },
  {
   "cell_type": "markdown",
   "metadata": {},
   "source": [
    "### 自定义类是type类`__call__`运算符的重装"
   ]
  },
  {
   "cell_type": "code",
   "execution_count": 49,
   "metadata": {},
   "outputs": [
    {
     "name": "stdout",
     "output_type": "stream",
     "text": [
      "<class '__main__.MyClass'> <__main__.MyClass object at 0x000000000BF26080>\n",
      "1\n"
     ]
    }
   ],
   "source": [
    "class MyClass:\n",
    "    data=1\n",
    "\n",
    "obj=MyClass()\n",
    "print(MyClass,obj)\n",
    "print(obj.data)"
   ]
  },
  {
   "cell_type": "code",
   "execution_count": 52,
   "metadata": {},
   "outputs": [
    {
     "name": "stdout",
     "output_type": "stream",
     "text": [
      "1\n",
      "<class '__main__.MyClass'> <__main__.MyClass object at 0x000000000BF66A20>\n"
     ]
    }
   ],
   "source": [
    "my_class=type('MyClass',(),{'data':1})\n",
    "obj=my_class()\n",
    "print(obj.data)\n",
    "print(my_class,obj)"
   ]
  },
  {
   "cell_type": "markdown",
   "metadata": {},
   "source": [
    "从上面的实验可以看出,创建一个类对象：`class=type(classname,superclass,attributedict)`,这是对type的`__call__`的重载，会进一步调用`type.__new__(classname,superclass,attributedict)`和`type.__init__(classname,superclass,attributedict)`"
   ]
  },
  {
   "cell_type": "markdown",
   "metadata": {},
   "source": [
    "### metaclass是type的子类，通过替换type的`__call__`运算符重载机制，超越变形正常的类。"
   ]
  },
  {
   "cell_type": "markdown",
   "metadata": {},
   "source": [
    "当类MyClass的metaclass被设置为其他的MyMeta后，MyClass将调用MyMeta的`__call__`运算符重载，而不是type。"
   ]
  },
  {
   "cell_type": "markdown",
   "metadata": {},
   "source": [
    "## metaclass的风险"
   ]
  },
  {
   "cell_type": "markdown",
   "metadata": {},
   "source": [
    "metaclass会扭曲正常的Python类型模型"
   ]
  },
  {
   "cell_type": "markdown",
   "metadata": {},
   "source": [
    "## 实验"
   ]
  },
  {
   "cell_type": "code",
   "execution_count": 58,
   "metadata": {},
   "outputs": [
    {
     "name": "stdout",
     "output_type": "stream",
     "text": [
      "MyMeta new\n",
      "MyMeta new MyMeta\n",
      "MyMeta init Foo\n",
      "MyMeta init\n",
      "Foo\n",
      "()\n",
      "{'__module__': '__main__', '__qualname__': 'Foo', '__init__': <function Foo.__init__ at 0x000000000BAFBB70>, '__new__': <function Foo.__new__ at 0x000000000BAFB158>}\n",
      "MyMeta call\n",
      "MyMeta call Foo\n",
      "foo new\n",
      "foo init\n"
     ]
    }
   ],
   "source": [
    "class MyMeta(type):\n",
    "    def __init__(cls, name, bases, kwds):\n",
    "        print('MyMeta init', cls.__name__)\n",
    "        super(MyMeta, cls).__init__(name, bases, kwds)\n",
    "        print('MyMeta init')\n",
    "        print(name)\n",
    "        print(bases)\n",
    "        print(kwds)\n",
    "\n",
    "    def __new__(cls, *args, **kwargs):\n",
    "        print('MyMeta new')\n",
    "        print('MyMeta new', cls.__name__)\n",
    "        return type.__new__(cls, *args, **kwargs)\n",
    "\n",
    "    def __call__(cls, *args, **kwargs):\n",
    "        print('MyMeta call')\n",
    "        print('MyMeta call', cls.__name__)\n",
    "        obj = cls.__new__(cls, *args, **kwargs)\n",
    "        cls.__init__(cls, *args, **kwargs)\n",
    "        return obj\n",
    "\n",
    "\n",
    "class Foo(metaclass=MyMeta):\n",
    "    def __init__(self, name):\n",
    "        print('foo init')\n",
    "        self.name = name\n",
    "\n",
    "    def __new__(cls, *args, **kwargs):\n",
    "        print('foo new')\n",
    "        return object.__new__(cls)\n",
    "\n",
    "\n",
    "f = Foo('martin')"
   ]
  },
  {
   "cell_type": "markdown",
   "metadata": {},
   "source": [
    "解析：\n",
    "- Foo(metaclass=MyMeta)：通过MyMeta创建一个新的类对象，所有会调用MyMeta的`__new__`和`__init__`方法。\n",
    "-  Foo('martin')：创建一个对象，会调用MyMeta的`__call__`方法，`__call__`方法中调用Foo的`__new__`和`__init__`方法。"
   ]
  }
 ],
 "metadata": {
  "kernelspec": {
   "display_name": "Python 3",
   "language": "python",
   "name": "python3"
  },
  "language_info": {
   "codemirror_mode": {
    "name": "ipython",
    "version": 3
   },
   "file_extension": ".py",
   "mimetype": "text/x-python",
   "name": "python",
   "nbconvert_exporter": "python",
   "pygments_lexer": "ipython3",
   "version": "3.7.2"
  }
 },
 "nbformat": 4,
 "nbformat_minor": 2
}
